{
 "cells": [
  {
   "cell_type": "code",
   "execution_count": 32,
   "id": "6a97514a",
   "metadata": {
    "scrolled": true,
    "ExecuteTime": {
     "end_time": "2023-09-23T04:29:45.048739Z",
     "start_time": "2023-09-23T04:29:44.791454800Z"
    }
   },
   "outputs": [],
   "source": [
    "# Copied from https://github.com/jeancroy/RP-fit\n",
    "\n",
    "import numpy as np\n",
    "import pandas as pd\n",
    "import seaborn as sns\n",
    "\n",
    "import requests\n",
    "from io import StringIO, BytesIO\n",
    "from os import path\n",
    "\n",
    "from IPython.lib.pretty import pretty, pprint\n",
    "\n",
    "from IPython.core.interactiveshell import InteractiveShell\n",
    "\n",
    "InteractiveShell.ast_node_interactivity = \"all\"\n",
    "\n",
    "pd.set_option('display.max_columns', 100)\n",
    "pd.set_option('display.max_rows', 120)\n",
    "\n"
   ]
  },
  {
   "cell_type": "code",
   "execution_count": 33,
   "id": "cbef97a2",
   "metadata": {
    "scrolled": true,
    "ExecuteTime": {
     "end_time": "2023-09-23T04:29:45.049745700Z",
     "start_time": "2023-09-23T04:29:44.811013800Z"
    }
   },
   "outputs": [],
   "source": [
    "def download_sheet(file_id, sheet_id):\n",
    "    r = requests.get(f'https://docs.google.com/spreadsheets/d/{file_id}/export?format=csv&id={file_id}&gid={sheet_id}')\n",
    "    df = pd.read_csv(BytesIO(r.content), thousands=',')\n",
    "    return df\n"
   ]
  },
  {
   "cell_type": "code",
   "execution_count": 34,
   "id": "079e9a71",
   "metadata": {
    "scrolled": true,
    "ExecuteTime": {
     "end_time": "2023-09-23T04:29:46.829332200Z",
     "start_time": "2023-09-23T04:29:44.829043600Z"
    }
   },
   "outputs": [],
   "source": [
    "refresh_rp_file = True\n",
    "\n",
    "rp_file_id = \"1kBrPl0pdAO8gjOf_NrTgAPseFtqQA27fdfEbMBBeAhs\"\n",
    "\n",
    "sheet_ids = {\n",
    "    \"data_1_9\": \"1682088244\",\n",
    "    \"data_10_29\": \"1691041080\",\n",
    "}\n",
    "\n",
    "local_files = {\n",
    "    \"data\": './data/rp-data.pickle',\n",
    "    \"natures\": './data/natures.pickle',\n",
    "    \"subskills\": './data/subskills.pickle',\n",
    "    \"mainskills\": './data/mainskills.pickle',\n",
    "    \"pokedex\": './data/pokedex.pickle',\n",
    "}\n",
    "\n",
    "if refresh_rp_file:\n",
    "    data_1_9 = download_sheet(rp_file_id, sheet_ids[\"data_1_9\"])\n",
    "    data_10_29 = download_sheet(rp_file_id, sheet_ids[\"data_10_29\"])\n",
    "\n",
    "    data = pd.concat([data_1_9, data_10_29], axis=0)\n",
    "    data = data.dropna(subset=[\"Pokemon\", \"Level\", \"RP\", \"Nature\", \"MS lvl\"])\n",
    "    data = data.fillna({'Amnt': 0, 'Ing2P': 0, 'Help skill bonus': 1, 'RP Multiplier': 1, 'ModelRP': -1, 'Difference': -1})\n",
    "    data = data.fillna({'Sub Skill 1': '', 'Sub Skill 2': '', 'Ingredient 2': '', 'Source': ''})\n",
    "\n",
    "    # avoid second food item\n",
    "    data = data[data[\"Level\"] < 30]\n",
    "\n",
    "    # avoid a bug in RP of freshly caught mon with skill up unlocked.\n",
    "    data = data[~((data[\"Sub Skill 1\"] == \"Skill Level Up S\") & (data[\"MS lvl\"] == 2) & (data[\"Level\"] > 9))]\n",
    "    data = data[~((data[\"Sub Skill 1\"] == \"Skill Level Up M\") & (data[\"MS lvl\"] == 3) & (data[\"Level\"] > 9))]\n",
    "\n",
    "    data.to_pickle(local_files[\"data\"])\n",
    "\n",
    "else:\n",
    "    data = pd.read_pickle(local_files[\"data\"])\n",
    "\n",
    "natures = pd.read_pickle(local_files[\"natures\"])\n",
    "mainskills = pd.read_pickle(local_files[\"mainskills\"])\n",
    "subskills = pd.read_pickle(local_files[\"subskills\"])\n",
    "pokedex = pd.read_pickle(local_files[\"pokedex\"])\n",
    "\n"
   ]
  },
  {
   "cell_type": "code",
   "execution_count": 35,
   "id": "c485c00a",
   "metadata": {
    "scrolled": false,
    "ExecuteTime": {
     "end_time": "2023-09-23T04:29:46.929084Z",
     "start_time": "2023-09-23T04:29:46.832848600Z"
    }
   },
   "outputs": [
    {
     "data": {
      "text/plain": "             Level           RP       MS lvl      ModelRP   Difference  \\\ncount  5173.000000  5173.000000  5173.000000  5173.000000  5173.000000   \nmean      9.418133   556.249758     1.397062   323.840727    -0.097993   \nstd       6.230190   322.910829     0.895382   220.694561     0.843832   \nmin       1.000000   245.000000     1.000000    -1.000000    -4.360000   \n25%       5.000000   349.000000     1.000000   266.090000    -0.750000   \n50%       8.000000   435.000000     1.000000   350.680000    -0.090000   \n75%      12.000000   661.000000     1.000000   441.240000     0.270000   \nmax      29.000000  3432.000000     6.000000  1774.300000     9.040000   \n\n             Freq1        FreqL          Inv       Berry1       BerryL  \\\ncount  5173.000000  5173.000000  5173.000000  5173.000000  5173.000000   \nmean   3994.181326  3860.132763    12.023197    27.991688    36.443650   \nstd     938.700750   999.883325     3.317360     2.617562     6.866459   \nmin    2200.000000  1489.118400     7.000000    24.000000    24.000000   \n25%    3400.000000  3079.788000    10.000000    26.000000    32.000000   \n50%    4000.000000  3853.200000    11.000000    28.000000    35.000000   \n75%    4500.000000  4473.000000    14.000000    30.000000    40.000000   \nmax    6300.000000  6916.140000    23.000000    35.000000    67.000000   \n\n             Ing1P  Helps per hour  Helps Neutral      NrgMult     IngrMult  \\\ncount  5173.000000     5173.000000    5173.000000  5173.000000  5173.000000   \nmean    108.762420        0.999196       0.989426     0.995206     1.000541   \nstd      15.689619        0.291232       0.059363     0.045315     0.118052   \nmin      90.000000        0.520000       0.890000     0.920000     0.800000   \n25%      98.000000        0.800000       1.000000     1.000000     1.000000   \n50%     103.000000        0.930000       1.000000     1.000000     1.000000   \n75%     115.000000        1.160000       1.000000     1.000000     1.000000   \nmax     151.000000        2.410000       1.120000     1.080000     1.200000   \n\n         SkillMult        Ingr%     SklContr       BerryD         IngD  \\\ncount  5173.000000  5084.000000  5173.000000  5173.000000  5173.000000   \nmean      1.005993     0.155873    19.187500    52.919196   145.305045   \nstd       0.118327     0.093160    21.148913    25.013470    54.571180   \nmin       0.800000     0.000000     0.000000    25.000000    90.000000   \n25%       1.000000     0.130000     5.990000    35.000000   101.000000   \n50%       1.000000     0.190000    12.790000    43.000000   121.000000   \n75%       1.000000     0.220000    24.740000    66.000000   200.000000   \nmax       1.200000     0.370000   294.950000   195.000000   302.000000   \n\n        Dupes    Amnt   Ing2P  Help skill bonus  RP Multiplier  \ncount  5173.0  5173.0  5173.0       5173.000000    5173.000000  \nmean      1.0     0.0     0.0          0.989337       1.025361  \nstd       0.0     0.0     0.0          0.035067       0.066437  \nmin       1.0     0.0     0.0          0.790000       1.000000  \n25%       1.0     0.0     0.0          1.000000       1.000000  \n50%       1.0     0.0     0.0          1.000000       1.000000  \n75%       1.0     0.0     0.0          1.000000       1.000000  \nmax       1.0     0.0     0.0          1.000000       1.440000  ",
      "text/html": "<div>\n<style scoped>\n    .dataframe tbody tr th:only-of-type {\n        vertical-align: middle;\n    }\n\n    .dataframe tbody tr th {\n        vertical-align: top;\n    }\n\n    .dataframe thead th {\n        text-align: right;\n    }\n</style>\n<table border=\"1\" class=\"dataframe\">\n  <thead>\n    <tr style=\"text-align: right;\">\n      <th></th>\n      <th>Level</th>\n      <th>RP</th>\n      <th>MS lvl</th>\n      <th>ModelRP</th>\n      <th>Difference</th>\n      <th>Freq1</th>\n      <th>FreqL</th>\n      <th>Inv</th>\n      <th>Berry1</th>\n      <th>BerryL</th>\n      <th>Ing1P</th>\n      <th>Helps per hour</th>\n      <th>Helps Neutral</th>\n      <th>NrgMult</th>\n      <th>IngrMult</th>\n      <th>SkillMult</th>\n      <th>Ingr%</th>\n      <th>SklContr</th>\n      <th>BerryD</th>\n      <th>IngD</th>\n      <th>Dupes</th>\n      <th>Amnt</th>\n      <th>Ing2P</th>\n      <th>Help skill bonus</th>\n      <th>RP Multiplier</th>\n    </tr>\n  </thead>\n  <tbody>\n    <tr>\n      <th>count</th>\n      <td>5173.000000</td>\n      <td>5173.000000</td>\n      <td>5173.000000</td>\n      <td>5173.000000</td>\n      <td>5173.000000</td>\n      <td>5173.000000</td>\n      <td>5173.000000</td>\n      <td>5173.000000</td>\n      <td>5173.000000</td>\n      <td>5173.000000</td>\n      <td>5173.000000</td>\n      <td>5173.000000</td>\n      <td>5173.000000</td>\n      <td>5173.000000</td>\n      <td>5173.000000</td>\n      <td>5173.000000</td>\n      <td>5084.000000</td>\n      <td>5173.000000</td>\n      <td>5173.000000</td>\n      <td>5173.000000</td>\n      <td>5173.0</td>\n      <td>5173.0</td>\n      <td>5173.0</td>\n      <td>5173.000000</td>\n      <td>5173.000000</td>\n    </tr>\n    <tr>\n      <th>mean</th>\n      <td>9.418133</td>\n      <td>556.249758</td>\n      <td>1.397062</td>\n      <td>323.840727</td>\n      <td>-0.097993</td>\n      <td>3994.181326</td>\n      <td>3860.132763</td>\n      <td>12.023197</td>\n      <td>27.991688</td>\n      <td>36.443650</td>\n      <td>108.762420</td>\n      <td>0.999196</td>\n      <td>0.989426</td>\n      <td>0.995206</td>\n      <td>1.000541</td>\n      <td>1.005993</td>\n      <td>0.155873</td>\n      <td>19.187500</td>\n      <td>52.919196</td>\n      <td>145.305045</td>\n      <td>1.0</td>\n      <td>0.0</td>\n      <td>0.0</td>\n      <td>0.989337</td>\n      <td>1.025361</td>\n    </tr>\n    <tr>\n      <th>std</th>\n      <td>6.230190</td>\n      <td>322.910829</td>\n      <td>0.895382</td>\n      <td>220.694561</td>\n      <td>0.843832</td>\n      <td>938.700750</td>\n      <td>999.883325</td>\n      <td>3.317360</td>\n      <td>2.617562</td>\n      <td>6.866459</td>\n      <td>15.689619</td>\n      <td>0.291232</td>\n      <td>0.059363</td>\n      <td>0.045315</td>\n      <td>0.118052</td>\n      <td>0.118327</td>\n      <td>0.093160</td>\n      <td>21.148913</td>\n      <td>25.013470</td>\n      <td>54.571180</td>\n      <td>0.0</td>\n      <td>0.0</td>\n      <td>0.0</td>\n      <td>0.035067</td>\n      <td>0.066437</td>\n    </tr>\n    <tr>\n      <th>min</th>\n      <td>1.000000</td>\n      <td>245.000000</td>\n      <td>1.000000</td>\n      <td>-1.000000</td>\n      <td>-4.360000</td>\n      <td>2200.000000</td>\n      <td>1489.118400</td>\n      <td>7.000000</td>\n      <td>24.000000</td>\n      <td>24.000000</td>\n      <td>90.000000</td>\n      <td>0.520000</td>\n      <td>0.890000</td>\n      <td>0.920000</td>\n      <td>0.800000</td>\n      <td>0.800000</td>\n      <td>0.000000</td>\n      <td>0.000000</td>\n      <td>25.000000</td>\n      <td>90.000000</td>\n      <td>1.0</td>\n      <td>0.0</td>\n      <td>0.0</td>\n      <td>0.790000</td>\n      <td>1.000000</td>\n    </tr>\n    <tr>\n      <th>25%</th>\n      <td>5.000000</td>\n      <td>349.000000</td>\n      <td>1.000000</td>\n      <td>266.090000</td>\n      <td>-0.750000</td>\n      <td>3400.000000</td>\n      <td>3079.788000</td>\n      <td>10.000000</td>\n      <td>26.000000</td>\n      <td>32.000000</td>\n      <td>98.000000</td>\n      <td>0.800000</td>\n      <td>1.000000</td>\n      <td>1.000000</td>\n      <td>1.000000</td>\n      <td>1.000000</td>\n      <td>0.130000</td>\n      <td>5.990000</td>\n      <td>35.000000</td>\n      <td>101.000000</td>\n      <td>1.0</td>\n      <td>0.0</td>\n      <td>0.0</td>\n      <td>1.000000</td>\n      <td>1.000000</td>\n    </tr>\n    <tr>\n      <th>50%</th>\n      <td>8.000000</td>\n      <td>435.000000</td>\n      <td>1.000000</td>\n      <td>350.680000</td>\n      <td>-0.090000</td>\n      <td>4000.000000</td>\n      <td>3853.200000</td>\n      <td>11.000000</td>\n      <td>28.000000</td>\n      <td>35.000000</td>\n      <td>103.000000</td>\n      <td>0.930000</td>\n      <td>1.000000</td>\n      <td>1.000000</td>\n      <td>1.000000</td>\n      <td>1.000000</td>\n      <td>0.190000</td>\n      <td>12.790000</td>\n      <td>43.000000</td>\n      <td>121.000000</td>\n      <td>1.0</td>\n      <td>0.0</td>\n      <td>0.0</td>\n      <td>1.000000</td>\n      <td>1.000000</td>\n    </tr>\n    <tr>\n      <th>75%</th>\n      <td>12.000000</td>\n      <td>661.000000</td>\n      <td>1.000000</td>\n      <td>441.240000</td>\n      <td>0.270000</td>\n      <td>4500.000000</td>\n      <td>4473.000000</td>\n      <td>14.000000</td>\n      <td>30.000000</td>\n      <td>40.000000</td>\n      <td>115.000000</td>\n      <td>1.160000</td>\n      <td>1.000000</td>\n      <td>1.000000</td>\n      <td>1.000000</td>\n      <td>1.000000</td>\n      <td>0.220000</td>\n      <td>24.740000</td>\n      <td>66.000000</td>\n      <td>200.000000</td>\n      <td>1.0</td>\n      <td>0.0</td>\n      <td>0.0</td>\n      <td>1.000000</td>\n      <td>1.000000</td>\n    </tr>\n    <tr>\n      <th>max</th>\n      <td>29.000000</td>\n      <td>3432.000000</td>\n      <td>6.000000</td>\n      <td>1774.300000</td>\n      <td>9.040000</td>\n      <td>6300.000000</td>\n      <td>6916.140000</td>\n      <td>23.000000</td>\n      <td>35.000000</td>\n      <td>67.000000</td>\n      <td>151.000000</td>\n      <td>2.410000</td>\n      <td>1.120000</td>\n      <td>1.080000</td>\n      <td>1.200000</td>\n      <td>1.200000</td>\n      <td>0.370000</td>\n      <td>294.950000</td>\n      <td>195.000000</td>\n      <td>302.000000</td>\n      <td>1.0</td>\n      <td>0.0</td>\n      <td>0.0</td>\n      <td>1.000000</td>\n      <td>1.440000</td>\n    </tr>\n  </tbody>\n</table>\n</div>"
     },
     "execution_count": 35,
     "metadata": {},
     "output_type": "execute_result"
    },
    {
     "data": {
      "text/plain": "    Pokemon  Level     RP   Nature  MS lvl                 Source  ModelRP  \\\n0     Arbok    8.0  531.0    Hardy       1  Questions help guides   530.90   \n1     Arbok    9.0  574.0  Naughty       1            Rate My Mon   574.43   \n2     Arbok    8.0  538.0    Quiet       1  Questions help guides   538.03   \n3  Arcanine    5.0  958.0     Calm       3                           -1.00   \n4  Arcanine    3.0  715.0      Lax       2  pokemon sleep general    -1.00   \n\n   Difference  Nature2              ID             NatureP            NatureN  \\\n0       -0.10  Neutral  ArbokNeutral81                   -                  -   \n1        0.43  Naughty  ArbokNaughty91       Speed of Help  Main Skill Chance   \n2        0.03    Quiet    ArbokQuiet81  Ingredient Finding          Exp Gains   \n3       -1.00     Calm  ArcanineCalm53   Main Skill Chance      Speed of Help   \n4       -1.00      Lax   ArcanineLax32     Energy Recovery  Main Skill Chance   \n\n    Freq1    FreqL    Type    Class           MSkill   Inv  Berry1  BerryL  \\\n0  3700.0  3648.20  Poison  Berries  Charge Energy S  14.0    32.0      39   \n1  3700.0  3276.72  Poison  Berries  Charge Energy S  14.0    32.0      40   \n2  3700.0  3648.20  Poison  Berries  Charge Energy S  14.0    32.0      39   \n3  2500.0  2728.00    Fire   Skills  Extra Helpful S  16.0    27.0      31   \n4  2500.0  2490.00    Fire   Skills  Extra Helpful S  16.0    27.0      29   \n\n           Ing1  Ing1P  Helps per hour  Helps Neutral  NrgMult  IngrMult  \\\n0  Bean Sausage  103.0            0.98           1.00     1.00       1.0   \n1  Bean Sausage  103.0            1.09           0.90     1.00       1.0   \n2  Bean Sausage  103.0            0.98           1.00     1.00       1.2   \n3    Fiery Herb  130.0            1.31           1.11     1.00       1.0   \n4    Fiery Herb  130.0            1.44           1.00     1.08       1.0   \n\n   SkillMult  Ingr%  SklContr RPneutral         IDNeutral  BerryD  IngD  \\\n0        1.0   0.25     23.08    531.00    ArbokNeutral81    78.0   103   \n1        0.8   0.25     23.08    538.67    ArbokNeutral91    80.0   103   \n2        1.0   0.25     23.08    530.88    ArbokNeutral81    78.0   103   \n3        1.2    NaN      0.00   1060.38  ArcanineSklNtr53    31.0   130   \n4        0.8    NaN      0.00    662.04  ArcanineNtrSkl32    29.0   130   \n\n   Dupes DupeMatch Sub Skill 1 Sub Skill 2 Ingredient 2  Amnt  Ing2P  \\\n0      1      True                                        0.0    0.0   \n1      1      True                                        0.0    0.0   \n2      1      True                                        0.0    0.0   \n3      1      True                                        0.0    0.0   \n4      1      True                                        0.0    0.0   \n\n   Help skill bonus  RP Multiplier  \n0               1.0            1.0  \n1               1.0            1.0  \n2               1.0            1.0  \n3               1.0            1.0  \n4               1.0            1.0  ",
      "text/html": "<div>\n<style scoped>\n    .dataframe tbody tr th:only-of-type {\n        vertical-align: middle;\n    }\n\n    .dataframe tbody tr th {\n        vertical-align: top;\n    }\n\n    .dataframe thead th {\n        text-align: right;\n    }\n</style>\n<table border=\"1\" class=\"dataframe\">\n  <thead>\n    <tr style=\"text-align: right;\">\n      <th></th>\n      <th>Pokemon</th>\n      <th>Level</th>\n      <th>RP</th>\n      <th>Nature</th>\n      <th>MS lvl</th>\n      <th>Source</th>\n      <th>ModelRP</th>\n      <th>Difference</th>\n      <th>Nature2</th>\n      <th>ID</th>\n      <th>NatureP</th>\n      <th>NatureN</th>\n      <th>Freq1</th>\n      <th>FreqL</th>\n      <th>Type</th>\n      <th>Class</th>\n      <th>MSkill</th>\n      <th>Inv</th>\n      <th>Berry1</th>\n      <th>BerryL</th>\n      <th>Ing1</th>\n      <th>Ing1P</th>\n      <th>Helps per hour</th>\n      <th>Helps Neutral</th>\n      <th>NrgMult</th>\n      <th>IngrMult</th>\n      <th>SkillMult</th>\n      <th>Ingr%</th>\n      <th>SklContr</th>\n      <th>RPneutral</th>\n      <th>IDNeutral</th>\n      <th>BerryD</th>\n      <th>IngD</th>\n      <th>Dupes</th>\n      <th>DupeMatch</th>\n      <th>Sub Skill 1</th>\n      <th>Sub Skill 2</th>\n      <th>Ingredient 2</th>\n      <th>Amnt</th>\n      <th>Ing2P</th>\n      <th>Help skill bonus</th>\n      <th>RP Multiplier</th>\n    </tr>\n  </thead>\n  <tbody>\n    <tr>\n      <th>0</th>\n      <td>Arbok</td>\n      <td>8.0</td>\n      <td>531.0</td>\n      <td>Hardy</td>\n      <td>1</td>\n      <td>Questions help guides</td>\n      <td>530.90</td>\n      <td>-0.10</td>\n      <td>Neutral</td>\n      <td>ArbokNeutral81</td>\n      <td>-</td>\n      <td>-</td>\n      <td>3700.0</td>\n      <td>3648.20</td>\n      <td>Poison</td>\n      <td>Berries</td>\n      <td>Charge Energy S</td>\n      <td>14.0</td>\n      <td>32.0</td>\n      <td>39</td>\n      <td>Bean Sausage</td>\n      <td>103.0</td>\n      <td>0.98</td>\n      <td>1.00</td>\n      <td>1.00</td>\n      <td>1.0</td>\n      <td>1.0</td>\n      <td>0.25</td>\n      <td>23.08</td>\n      <td>531.00</td>\n      <td>ArbokNeutral81</td>\n      <td>78.0</td>\n      <td>103</td>\n      <td>1</td>\n      <td>True</td>\n      <td></td>\n      <td></td>\n      <td></td>\n      <td>0.0</td>\n      <td>0.0</td>\n      <td>1.0</td>\n      <td>1.0</td>\n    </tr>\n    <tr>\n      <th>1</th>\n      <td>Arbok</td>\n      <td>9.0</td>\n      <td>574.0</td>\n      <td>Naughty</td>\n      <td>1</td>\n      <td>Rate My Mon</td>\n      <td>574.43</td>\n      <td>0.43</td>\n      <td>Naughty</td>\n      <td>ArbokNaughty91</td>\n      <td>Speed of Help</td>\n      <td>Main Skill Chance</td>\n      <td>3700.0</td>\n      <td>3276.72</td>\n      <td>Poison</td>\n      <td>Berries</td>\n      <td>Charge Energy S</td>\n      <td>14.0</td>\n      <td>32.0</td>\n      <td>40</td>\n      <td>Bean Sausage</td>\n      <td>103.0</td>\n      <td>1.09</td>\n      <td>0.90</td>\n      <td>1.00</td>\n      <td>1.0</td>\n      <td>0.8</td>\n      <td>0.25</td>\n      <td>23.08</td>\n      <td>538.67</td>\n      <td>ArbokNeutral91</td>\n      <td>80.0</td>\n      <td>103</td>\n      <td>1</td>\n      <td>True</td>\n      <td></td>\n      <td></td>\n      <td></td>\n      <td>0.0</td>\n      <td>0.0</td>\n      <td>1.0</td>\n      <td>1.0</td>\n    </tr>\n    <tr>\n      <th>2</th>\n      <td>Arbok</td>\n      <td>8.0</td>\n      <td>538.0</td>\n      <td>Quiet</td>\n      <td>1</td>\n      <td>Questions help guides</td>\n      <td>538.03</td>\n      <td>0.03</td>\n      <td>Quiet</td>\n      <td>ArbokQuiet81</td>\n      <td>Ingredient Finding</td>\n      <td>Exp Gains</td>\n      <td>3700.0</td>\n      <td>3648.20</td>\n      <td>Poison</td>\n      <td>Berries</td>\n      <td>Charge Energy S</td>\n      <td>14.0</td>\n      <td>32.0</td>\n      <td>39</td>\n      <td>Bean Sausage</td>\n      <td>103.0</td>\n      <td>0.98</td>\n      <td>1.00</td>\n      <td>1.00</td>\n      <td>1.2</td>\n      <td>1.0</td>\n      <td>0.25</td>\n      <td>23.08</td>\n      <td>530.88</td>\n      <td>ArbokNeutral81</td>\n      <td>78.0</td>\n      <td>103</td>\n      <td>1</td>\n      <td>True</td>\n      <td></td>\n      <td></td>\n      <td></td>\n      <td>0.0</td>\n      <td>0.0</td>\n      <td>1.0</td>\n      <td>1.0</td>\n    </tr>\n    <tr>\n      <th>3</th>\n      <td>Arcanine</td>\n      <td>5.0</td>\n      <td>958.0</td>\n      <td>Calm</td>\n      <td>3</td>\n      <td></td>\n      <td>-1.00</td>\n      <td>-1.00</td>\n      <td>Calm</td>\n      <td>ArcanineCalm53</td>\n      <td>Main Skill Chance</td>\n      <td>Speed of Help</td>\n      <td>2500.0</td>\n      <td>2728.00</td>\n      <td>Fire</td>\n      <td>Skills</td>\n      <td>Extra Helpful S</td>\n      <td>16.0</td>\n      <td>27.0</td>\n      <td>31</td>\n      <td>Fiery Herb</td>\n      <td>130.0</td>\n      <td>1.31</td>\n      <td>1.11</td>\n      <td>1.00</td>\n      <td>1.0</td>\n      <td>1.2</td>\n      <td>NaN</td>\n      <td>0.00</td>\n      <td>1060.38</td>\n      <td>ArcanineSklNtr53</td>\n      <td>31.0</td>\n      <td>130</td>\n      <td>1</td>\n      <td>True</td>\n      <td></td>\n      <td></td>\n      <td></td>\n      <td>0.0</td>\n      <td>0.0</td>\n      <td>1.0</td>\n      <td>1.0</td>\n    </tr>\n    <tr>\n      <th>4</th>\n      <td>Arcanine</td>\n      <td>3.0</td>\n      <td>715.0</td>\n      <td>Lax</td>\n      <td>2</td>\n      <td>pokemon sleep general</td>\n      <td>-1.00</td>\n      <td>-1.00</td>\n      <td>Lax</td>\n      <td>ArcanineLax32</td>\n      <td>Energy Recovery</td>\n      <td>Main Skill Chance</td>\n      <td>2500.0</td>\n      <td>2490.00</td>\n      <td>Fire</td>\n      <td>Skills</td>\n      <td>Extra Helpful S</td>\n      <td>16.0</td>\n      <td>27.0</td>\n      <td>29</td>\n      <td>Fiery Herb</td>\n      <td>130.0</td>\n      <td>1.44</td>\n      <td>1.00</td>\n      <td>1.08</td>\n      <td>1.0</td>\n      <td>0.8</td>\n      <td>NaN</td>\n      <td>0.00</td>\n      <td>662.04</td>\n      <td>ArcanineNtrSkl32</td>\n      <td>29.0</td>\n      <td>130</td>\n      <td>1</td>\n      <td>True</td>\n      <td></td>\n      <td></td>\n      <td></td>\n      <td>0.0</td>\n      <td>0.0</td>\n      <td>1.0</td>\n      <td>1.0</td>\n    </tr>\n  </tbody>\n</table>\n</div>"
     },
     "execution_count": 35,
     "metadata": {},
     "output_type": "execute_result"
    }
   ],
   "source": [
    "data.describe()\n",
    "data.head()"
   ]
  },
  {
   "cell_type": "code",
   "execution_count": 36,
   "id": "27000a9e",
   "metadata": {
    "scrolled": true,
    "ExecuteTime": {
     "end_time": "2023-09-23T04:29:46.948987100Z",
     "start_time": "2023-09-23T04:29:46.923562100Z"
    }
   },
   "outputs": [],
   "source": [
    "# nature and subskill with known effects on production\n",
    "\n",
    "nature_soh_effect = 0.1\n",
    "subskill_help_s_effect = 0.07\n",
    "subskill_help_m_effect = 0.14\n",
    "\n",
    "subskill_ing_s_effect = 0.18\n",
    "subskill_ing_m_effect = 0.36\n",
    "\n",
    "subskill_trigger_s_effect = 0.18\n",
    "subskill_trigger_m_effect = 0.36"
   ]
  },
  {
   "cell_type": "code",
   "execution_count": 37,
   "id": "5329ef7c",
   "metadata": {
    "scrolled": true,
    "ExecuteTime": {
     "end_time": "2023-09-23T04:29:47.141072400Z",
     "start_time": "2023-09-23T04:29:46.941946400Z"
    }
   },
   "outputs": [],
   "source": [
    "# All the formula \"ifs\" will be implemented as one-hot vector  (0,1)\n",
    "\n",
    "# Specialty (Class)\n",
    "\n",
    "classes = [\"Ingredients\", \"Berries\", \"Skills\"]\n",
    "data_has_class = dict([(c, (data[\"Class\"] == c).astype(int).to_numpy()) for c in classes])\n",
    "\n",
    "# Natures\n",
    "\n",
    "traits = natures[\"TraitPos\"].unique()\n",
    "\n",
    "natures_with_positive_trait = dict([(t, natures[natures[\"TraitPos\"] == t][\"Nature\"].tolist()) for t in traits])\n",
    "natures_with_negative_trait = dict([(t, natures[natures[\"TraitNeg\"] == t][\"Nature\"].tolist()) for t in traits])\n",
    "\n",
    "data_has_positive_trait = dict(\n",
    "    [(t, data[\"Nature\"].isin(natures_with_positive_trait[t]).astype(int).to_numpy()) for t in traits])\n",
    "data_has_negative_trait = dict(\n",
    "    [(t, data[\"Nature\"].isin(natures_with_negative_trait[t]).astype(int).to_numpy()) for t in traits])\n",
    "\n",
    "# Subskills\n",
    "\n",
    "subs = subskills[\"Subskill\"].unique()\n",
    "\n",
    "data_has_subskill = dict([(s,\n",
    "                           (((data[\"Sub Skill 1\"] == s) & (data[\"Level\"] >= 10)) |\n",
    "                            ((data[\"Sub Skill 2\"] == s) & (data[\"Level\"] >= 25))\n",
    "                            ).astype(int).to_numpy()\n",
    "                           )\n",
    "                          for s in subs\n",
    "                          ])"
   ]
  },
  {
   "cell_type": "code",
   "execution_count": 38,
   "id": "658022e7",
   "metadata": {
    "scrolled": true,
    "ExecuteTime": {
     "end_time": "2023-09-23T04:29:47.162627300Z",
     "start_time": "2023-09-23T04:29:46.984904300Z"
    }
   },
   "outputs": [],
   "source": [
    "# Here we start to organise the globals variables so writing the model get less confusing.\n",
    "\n",
    "from types import SimpleNamespace\n",
    "\n",
    "computed = SimpleNamespace()\n",
    "\n",
    "computed.has_class = data_has_class\n",
    "computed.has_positive_trait = data_has_positive_trait\n",
    "computed.has_negative_trait = data_has_negative_trait\n",
    "computed.has_subskill = data_has_subskill\n",
    "\n",
    "# We could redo that work but it's not related to the optimisation\n",
    "computed.ing1_power_base = data[\"Ing1P\"]\n",
    "computed.berry_power_base = data[\"Berry1\"]\n",
    "computed.berry_power_at_level = data[\"BerryL\"]"
   ]
  },
  {
   "cell_type": "code",
   "execution_count": 39,
   "id": "09ec8d0c",
   "metadata": {
    "scrolled": true,
    "ExecuteTime": {
     "end_time": "2023-09-23T04:29:47.210799300Z",
     "start_time": "2023-09-23T04:29:47.003540100Z"
    }
   },
   "outputs": [
    {
     "data": {
      "text/plain": "count    5173.0\nmean        0.0\nstd         0.0\nmin         0.0\n25%         0.0\n50%         0.0\n75%         0.0\nmax         0.0\ndtype: float64"
     },
     "execution_count": 39,
     "metadata": {},
     "output_type": "execute_result"
    }
   ],
   "source": [
    "# Here we will reproduce the Help/hr information as a test of using those one-hot vectors.\n",
    "\n",
    "data_period_base = data[\"Freq1\"]\n",
    "data_period_level = data_period_base * ((501 - data[\"Level\"]) / 500.0)\n",
    "\n",
    "nature_correction = (\n",
    "        1\n",
    "        - (computed.has_positive_trait[\n",
    "               \"Speed of Help\"] * nature_soh_effect)  # Speed is the only nature where positive is a substraction\n",
    "        + (computed.has_negative_trait[\"Speed of Help\"] * nature_soh_effect)  # Because we work on time between helps.\n",
    ")\n",
    "\n",
    "subskill_correction = (\n",
    "        1\n",
    "        - (computed.has_subskill[\"Helping Speed S\"] * subskill_help_s_effect)\n",
    "        - (computed.has_subskill[\"Helping Speed M\"] * subskill_help_m_effect)\n",
    ")\n",
    "\n",
    "data_period_level_nature_subskill = data_period_level * nature_correction * subskill_correction\n",
    "\n",
    "# Are we the same up to csv precision ? Yes\n",
    "#(data_period_level_nature_subskill - data[\"FreqL\"]).describe()\n",
    "\n",
    "# Are we exactly the same ? Yes\n",
    "data_helps_per_hour = np.floor(100 * 3600 / data_period_level_nature_subskill) / 100\n",
    "(data_helps_per_hour - data[\"Helps per hour\"]).describe()\n",
    "\n",
    "# Save to computed\n",
    "computed.period_base = data_period_base\n",
    "computed.period_level = data_period_level\n",
    "computed.helps_per_hour = data_helps_per_hour\n"
   ]
  },
  {
   "cell_type": "code",
   "execution_count": 40,
   "id": "78a2ada4",
   "metadata": {
    "scrolled": true,
    "ExecuteTime": {
     "end_time": "2023-09-23T04:29:47.211801100Z",
     "start_time": "2023-09-23T04:29:47.030719600Z"
    }
   },
   "outputs": [],
   "source": [
    "# Here we build the initial guess\n",
    "# And package it into the 1-D array that the optimizer require.\n",
    "# While doing, so we'll build a map between the model dict and the 1-D array otherwise it'll get confusing fast.\n",
    "\n",
    "initial = {\n",
    "    'Nature Ingredient Finding': 0.2,  # Idea: We start at 0.25 because it's about midpoint between 0.18 and  0.36\n",
    "    'Nature Main Skill Chance': 0.2,  # If it still goes to 0.2 it is what it is.\n",
    "    'Nature Energy Recovery': 0.08,\n",
    "}\n"
   ]
  },
  {
   "cell_type": "code",
   "execution_count": 41,
   "id": "71b7ab95",
   "metadata": {
    "scrolled": true,
    "ExecuteTime": {
     "end_time": "2023-09-23T04:29:47.211801100Z",
     "start_time": "2023-09-23T04:29:47.046742Z"
    }
   },
   "outputs": [],
   "source": [
    "# Initial guess for the ing% and skillProduct ( skill% * skillValue ) \n",
    "\n",
    "pokemon_to_position = {}\n",
    "guess_ing_fractions = []\n",
    "guess_skl_products = []\n",
    "\n",
    "previous_ing_fractions = []\n",
    "previous_skl_products = []\n",
    "\n",
    "for record in pokedex.to_dict(orient='records'):\n",
    "\n",
    "    pokemon_to_position[record[\"Pokemon\"]] = len(guess_ing_fractions)\n",
    "\n",
    "    # Simple linear model\n",
    "    guess_ing_fractions.append((record[\"Berry Power\"] - 7) / record[\"Ing 1 Power\"])\n",
    "    guess_skl_products.append(0.5 * (record[\"Berry Power\"] - 3) * (3.5 if record[\"Class\"] == \"Skills\" else 1.0))\n",
    "\n",
    "    # Last fit (reproduce result)\n",
    "    previous_ing_fractions.append(record[\"Last fit ing\"])\n",
    "    previous_skl_products.append(record[\"Last fit skl\"])\n",
    "\n",
    "#initial[\"Pokemons ing fractions\"] = guess_ing_fractions\n",
    "#initial[\"Pokemons skill products\"] = guess_skl_products\n",
    "\n",
    "initial[\"Pokemons ing fractions\"] = previous_ing_fractions\n",
    "initial[\"Pokemons skill products\"] = previous_skl_products\n",
    "\n",
    "# In the final vector there would be offset\n",
    "# But the pack/unpack idea is good enough to avoid those.\n",
    "data_pokemon_positions = np.array(list(map(lambda x: pokemon_to_position[x], data[\"Pokemon\"])))\n",
    "\n",
    "computed.ing_positions = data_pokemon_positions\n",
    "computed.skl_positions = data_pokemon_positions\n"
   ]
  },
  {
   "cell_type": "code",
   "execution_count": 42,
   "id": "237964e9",
   "metadata": {
    "scrolled": true,
    "ExecuteTime": {
     "end_time": "2023-09-23T04:29:47.212800400Z",
     "start_time": "2023-09-23T04:29:47.060771100Z"
    }
   },
   "outputs": [],
   "source": [
    "# Intial guess for skill growth\n",
    "# We assume that the conversion from level 1 to level L\n",
    "# Has the shape a*exp(b*L). Initial guess for a,b fitted on charge strength \n",
    "\n",
    "for record in mainskills.to_dict(orient='records'):\n",
    "    skillname = record[\"Skill\"]\n",
    "    initial[skillname] = [0.7462, 0.3224]\n"
   ]
  },
  {
   "cell_type": "code",
   "execution_count": 43,
   "id": "7e52b083",
   "metadata": {
    "scrolled": true,
    "ExecuteTime": {
     "end_time": "2023-09-23T04:29:47.213797600Z",
     "start_time": "2023-09-23T04:29:47.080317700Z"
    }
   },
   "outputs": [],
   "source": [
    "# Initial guess for ingredient growth.\n",
    "# Comes from a previous fit\n",
    "# Numpy poly convention is highest degree first\n",
    "\n",
    "initial[\"Ing Growth Poly\"] = [0.000224436802535453, 0.00266425197402284, 0.004768806303]"
   ]
  },
  {
   "cell_type": "code",
   "execution_count": 44,
   "id": "55c54865",
   "metadata": {
    "scrolled": true,
    "ExecuteTime": {
     "end_time": "2023-09-23T04:29:47.213797600Z",
     "start_time": "2023-09-23T04:29:47.092373500Z"
    }
   },
   "outputs": [],
   "source": [
    "# Add our guess for the sub skills that multiply the whole rp\n",
    "\n",
    "bonus = subskills[subskills[\"RP Multiplier Guess\"] > 0]\n",
    "computed.bonus_subskill_name = bonus[\"Subskill\"].tolist()\n",
    "\n",
    "for record in bonus.to_dict(orient='records'):\n",
    "    initial[record[\"Subskill\"]] = record[\"RP Multiplier Guess\"]"
   ]
  },
  {
   "cell_type": "code",
   "execution_count": 45,
   "id": "7ef7081c",
   "metadata": {
    "scrolled": true,
    "ExecuteTime": {
     "end_time": "2023-09-23T04:29:47.213797600Z",
     "start_time": "2023-09-23T04:29:47.113436600Z"
    }
   },
   "outputs": [],
   "source": [
    "# Pack the dictionary into a 1-D vector.\n",
    "# Also store information on how to unpack that vector\n",
    "\n",
    "import numbers\n",
    "\n",
    "\n",
    "def pack(source):\n",
    "\n",
    "    x = []\n",
    "    unpack_info = {}\n",
    "\n",
    "    for k, v in source.items():\n",
    "\n",
    "        start = len(x)\n",
    "\n",
    "        if isinstance(v, list) and len(v) > 0:\n",
    "            x.extend(v)\n",
    "            unpack_info[k] = (start, len(v))\n",
    "\n",
    "        elif isinstance(v, numbers.Number):\n",
    "            x.append(v)\n",
    "            unpack_info[k] = (start, 0)\n",
    "\n",
    "    return np.array(x), unpack_info\n",
    "\n",
    "\n",
    "def unpack(x, unpack_info):\n",
    "\n",
    "    unpacked = {}\n",
    "\n",
    "    for k, v in unpack_info.items():\n",
    "\n",
    "        start, length = v\n",
    "\n",
    "        if (length == 0):\n",
    "            unpacked[k] = x[start]\n",
    "        else:\n",
    "            unpacked[k] = np.array(x[start:start + length])\n",
    "\n",
    "    return unpacked\n",
    "\n",
    "\n",
    "x0, unpack_info = pack(initial)\n",
    "computed.unpack_info = unpack_info"
   ]
  },
  {
   "cell_type": "code",
   "execution_count": 46,
   "id": "2d6739e0",
   "metadata": {
    "scrolled": true,
    "ExecuteTime": {
     "end_time": "2023-09-23T04:29:47.220314400Z",
     "start_time": "2023-09-23T04:29:47.136800200Z"
    }
   },
   "outputs": [],
   "source": [
    "# We compute our RP model here\n",
    "\n",
    "def get_model(variables):\n",
    "\n",
    "    model = SimpleNamespace()\n",
    "    model.data = data\n",
    "    model.computed = computed\n",
    "    model.vars = unpack(variables, computed.unpack_info)\n",
    "    return model\n",
    "\n",
    "\n",
    "def ing1_value_at_level(model):\n",
    "    return model.computed.ing1_power_base * (1.0 + np.polyval(model.vars[\"Ing Growth Poly\"], model.data[\"Level\"]))\n",
    "\n",
    "\n",
    "def ber_value_at_level(model):\n",
    "    return model.computed.berry_power_at_level\n",
    "\n",
    "\n",
    "def ing1_amount(model):\n",
    "    return 1.0 + model.computed.has_class[\"Ingredients\"]\n",
    "\n",
    "\n",
    "def ber_amount(model):\n",
    "    return 1.0 + model.computed.has_class[\"Berries\"] + model.computed.has_subskill[\"Berry Finding S\"]\n",
    "\n",
    "\n",
    "def ing_fraction(model):\n",
    "\n",
    "    return model.vars[\"Pokemons ing fractions\"].take(model.computed.ing_positions)\n",
    "\n",
    "\n",
    "def skl_product(model):\n",
    "\n",
    "    return model.vars[\"Pokemons skill products\"].take(model.computed.skl_positions)\n",
    "\n",
    "\n",
    "def skl_growth(model):\n",
    "\n",
    "    a = model.data[\"MSkill\"].map(lambda x: model.vars[x][0])\n",
    "    b = model.data[\"MSkill\"].map(lambda x: model.vars[x][1])\n",
    "\n",
    "    growth = a * np.exp(b * model.data[\"MS lvl\"])\n",
    "    growth[model.data[\"MS lvl\"] == 1] = 1.0\n",
    "\n",
    "    return growth\n",
    "\n",
    "\n",
    "def ing_modifier(model):\n",
    "\n",
    "    nature_ing_effect = model.vars[\"Nature Ingredient Finding\"]\n",
    "\n",
    "    nature_correction = (\n",
    "            1.0\n",
    "            + (model.computed.has_positive_trait[\"Ingredient Finding\"] * nature_ing_effect)\n",
    "            - (model.computed.has_negative_trait[\"Ingredient Finding\"] * nature_ing_effect)\n",
    "    )\n",
    "\n",
    "    subskill_correction = (\n",
    "            1.0\n",
    "            + (model.computed.has_subskill[\"Ingredient Finder S\"] * subskill_ing_s_effect)\n",
    "            + (model.computed.has_subskill[\"Ingredient Finder M\"] * subskill_ing_m_effect)\n",
    "    )\n",
    "\n",
    "    return nature_correction * subskill_correction\n",
    "\n",
    "\n",
    "def skl_modifier(model):\n",
    "\n",
    "    nature_msc_effect = model.vars[\"Nature Main Skill Chance\"]\n",
    "\n",
    "    nature_correction = (\n",
    "            1.0\n",
    "            + (model.computed.has_positive_trait[\"Main Skill Chance\"] * nature_msc_effect)\n",
    "            - (model.computed.has_negative_trait[\"Main Skill Chance\"] * nature_msc_effect)\n",
    "    )\n",
    "\n",
    "    subskill_correction = (\n",
    "            1.0\n",
    "            + (model.computed.has_subskill[\"Skill Trigger S\"] * subskill_trigger_s_effect)\n",
    "            + (model.computed.has_subskill[\"Skill Trigger M\"] * subskill_trigger_m_effect)\n",
    "    )\n",
    "\n",
    "    return nature_correction * subskill_correction\n",
    "\n",
    "\n",
    "def energy_modifier(model):\n",
    "\n",
    "    nature_energy_effect = model.vars[\"Nature Energy Recovery\"]\n",
    "\n",
    "    return (\n",
    "            1.0\n",
    "            + (model.computed.has_positive_trait[\"Energy Recovery\"] * nature_energy_effect)\n",
    "            - (model.computed.has_negative_trait[\"Energy Recovery\"] * nature_energy_effect)\n",
    "    )\n",
    "\n",
    "\n",
    "def fractional_help_count(model):\n",
    "    return 5.0 * model.computed.helps_per_hour\n",
    "\n",
    "\n",
    "def bonus_subskill(model):\n",
    "\n",
    "    bonus = 1.0\n",
    "\n",
    "    for name in computed.bonus_subskill_name:\n",
    "        bonus += model.computed.has_subskill[name] * model.vars[name]\n",
    "\n",
    "    return bonus\n",
    "\n",
    "\n",
    "def RP(variables):\n",
    "\n",
    "    model = get_model(variables)\n",
    "\n",
    "    ing = ing_fraction(model) * ing_modifier(model)\n",
    "\n",
    "    ingredients_value = ing * ing1_amount(model) * ing1_value_at_level(model)\n",
    "\n",
    "    berries_value = (1.0 - ing) * ber_amount(model) * ber_value_at_level(model)\n",
    "\n",
    "    mainskill_value = skl_product(model) * skl_modifier(model) * skl_growth(model)\n",
    "\n",
    "    help_count = fractional_help_count(model)\n",
    "\n",
    "    energy_correction = energy_modifier(model)\n",
    "\n",
    "    bonus = bonus_subskill(model)\n",
    "\n",
    "    rp = bonus * help_count * energy_correction * (ingredients_value + berries_value + mainskill_value)\n",
    "\n",
    "    return rp\n",
    "\n",
    "\n",
    "def residual(variables):\n",
    "\n",
    "    return data[\"RP\"].to_numpy() - RP(variables)\n",
    "\n"
   ]
  },
  {
   "cell_type": "code",
   "execution_count": 47,
   "id": "bcea5e55",
   "metadata": {
    "scrolled": true,
    "ExecuteTime": {
     "end_time": "2023-09-23T04:29:47.299849400Z",
     "start_time": "2023-09-23T04:29:47.154106800Z"
    }
   },
   "outputs": [
    {
     "data": {
      "text/plain": "        Pokemon                                                ID      RP  \\\n1797      Eevee                     EeveeSassy105Skill Level Up M  1320.0   \n1831      Eevee                     EeveeSassy115Skill Level Up M  1325.0   \n2375  Sudowoodo               SudowoodoAdamant126Skill Level Up M  1777.0   \n2379  Sudowoodo  SudowoodoHasty255Skill Level Up MHelping Speed M  1419.0   \n2385  Sudowoodo                  SudowoodoBold165Skill Level Up M  1241.0   \n\n      ModelRP          RP2  \n1797  1320.14  1320.752418  \n1831  1324.83  1325.442162  \n2375  1774.30  1775.640848  \n2379  1419.96  1420.574255  \n2385  1241.34  1241.890591  ",
      "text/html": "<div>\n<style scoped>\n    .dataframe tbody tr th:only-of-type {\n        vertical-align: middle;\n    }\n\n    .dataframe tbody tr th {\n        vertical-align: top;\n    }\n\n    .dataframe thead th {\n        text-align: right;\n    }\n</style>\n<table border=\"1\" class=\"dataframe\">\n  <thead>\n    <tr style=\"text-align: right;\">\n      <th></th>\n      <th>Pokemon</th>\n      <th>ID</th>\n      <th>RP</th>\n      <th>ModelRP</th>\n      <th>RP2</th>\n    </tr>\n  </thead>\n  <tbody>\n    <tr>\n      <th>1797</th>\n      <td>Eevee</td>\n      <td>EeveeSassy105Skill Level Up M</td>\n      <td>1320.0</td>\n      <td>1320.14</td>\n      <td>1320.752418</td>\n    </tr>\n    <tr>\n      <th>1831</th>\n      <td>Eevee</td>\n      <td>EeveeSassy115Skill Level Up M</td>\n      <td>1325.0</td>\n      <td>1324.83</td>\n      <td>1325.442162</td>\n    </tr>\n    <tr>\n      <th>2375</th>\n      <td>Sudowoodo</td>\n      <td>SudowoodoAdamant126Skill Level Up M</td>\n      <td>1777.0</td>\n      <td>1774.30</td>\n      <td>1775.640848</td>\n    </tr>\n    <tr>\n      <th>2379</th>\n      <td>Sudowoodo</td>\n      <td>SudowoodoHasty255Skill Level Up MHelping Speed M</td>\n      <td>1419.0</td>\n      <td>1419.96</td>\n      <td>1420.574255</td>\n    </tr>\n    <tr>\n      <th>2385</th>\n      <td>Sudowoodo</td>\n      <td>SudowoodoBold165Skill Level Up M</td>\n      <td>1241.0</td>\n      <td>1241.34</td>\n      <td>1241.890591</td>\n    </tr>\n  </tbody>\n</table>\n</div>"
     },
     "execution_count": 47,
     "metadata": {},
     "output_type": "execute_result"
    }
   ],
   "source": [
    "# Can we reproduce the sheet prediction ?\n",
    "# Yes. They have a small difference in how they do skl growth.\n",
    "\n",
    "df = data[[\"Pokemon\", \"ID\", \"RP\", \"ModelRP\"]].copy()\n",
    "df[\"RP2\"] = RP(x0)\n",
    "df = df[df[\"ModelRP\"] > 0]\n",
    "df[np.abs(df[\"RP2\"] - df[\"ModelRP\"]) > 0.5]"
   ]
  },
  {
   "cell_type": "code",
   "execution_count": 48,
   "id": "092c3939",
   "metadata": {
    "scrolled": true,
    "ExecuteTime": {
     "end_time": "2023-09-23T04:29:47.317408600Z",
     "start_time": "2023-09-23T04:29:47.184745600Z"
    }
   },
   "outputs": [
    {
     "data": {
      "text/plain": "count    5173.000000\nmean       13.478749\nstd        50.307050\nmin         0.000018\n25%         0.175193\n50%         0.364530\n75%         2.046479\nmax      1650.264122\ndtype: float64"
     },
     "execution_count": 48,
     "metadata": {},
     "output_type": "execute_result"
    }
   ],
   "source": [
    "r = np.abs(residual(x0))\n",
    "pd.Series(r).describe()"
   ]
  },
  {
   "cell_type": "code",
   "execution_count": 49,
   "id": "c89af56d",
   "metadata": {
    "scrolled": false,
    "ExecuteTime": {
     "end_time": "2023-09-23T04:29:47.789501200Z",
     "start_time": "2023-09-23T04:29:47.217302700Z"
    }
   },
   "outputs": [
    {
     "name": "stderr",
     "output_type": "stream",
     "text": [
      "C:\\Users\\RaenonX\\Documents\\Projects\\PokemonSleep\\pokemon-sleep-scraper\\venv\\lib\\site-packages\\seaborn\\_oldcore.py:1498: FutureWarning: is_categorical_dtype is deprecated and will be removed in a future version. Use isinstance(dtype, CategoricalDtype) instead\n",
      "  if pd.api.types.is_categorical_dtype(vector):\n",
      "C:\\Users\\RaenonX\\Documents\\Projects\\PokemonSleep\\pokemon-sleep-scraper\\venv\\lib\\site-packages\\seaborn\\_oldcore.py:1119: FutureWarning: use_inf_as_na option is deprecated and will be removed in a future version. Convert inf values to NaN before operating instead.\n",
      "  with pd.option_context('mode.use_inf_as_na', True):\n"
     ]
    },
    {
     "data": {
      "text/plain": "<Axes: ylabel='Count'>"
     },
     "execution_count": 49,
     "metadata": {},
     "output_type": "execute_result"
    },
    {
     "data": {
      "text/plain": "<Figure size 640x480 with 1 Axes>",
      "image/png": "[encoded data removed]"
     },
     "metadata": {},
     "output_type": "display_data"
    }
   ],
   "source": [
    "sns.histplot(x=r[r > 1e-3], log_scale=True)"
   ]
  },
  {
   "cell_type": "code",
   "execution_count": 50,
   "id": "0ecc324a",
   "metadata": {
    "scrolled": true,
    "ExecuteTime": {
     "end_time": "2023-09-23T04:36:07.815711100Z",
     "start_time": "2023-09-23T04:29:47.791502200Z"
    }
   },
   "outputs": [
    {
     "name": "stderr",
     "output_type": "stream",
     "text": [
      "C:\\Users\\RaenonX\\Documents\\Projects\\PokemonSleep\\pokemon-sleep-scraper\\venv\\lib\\site-packages\\pandas\\core\\arraylike.py:396: RuntimeWarning: overflow encountered in exp\n",
      "  result = getattr(ufunc, method)(*inputs, **kwargs)\n"
     ]
    },
    {
     "name": "stdout",
     "output_type": "stream",
     "text": [
      "     message: `ftol` termination condition is satisfied.\n",
      "     success: True\n",
      "      status: 2\n",
      "         fun: [ 2.379e-01 -4.726e-01 ... -7.326e-01  3.287e-01]\n",
      "           x: [ 2.000e-01  1.999e-01 ...  2.196e-01  2.194e-01]\n",
      "        cost: 1657.612604170366\n",
      "         jac: [[ 0.000e+00  0.000e+00 ...  0.000e+00  0.000e+00]\n",
      "               [ 0.000e+00  1.068e+02 ...  0.000e+00  0.000e+00]\n",
      "               ...\n",
      "               [ 5.616e+01 -1.458e+03 ...  0.000e+00  0.000e+00]\n",
      "               [ 0.000e+00 -6.919e+02 ...  0.000e+00  0.000e+00]]\n",
      "        grad: [ 6.016e-02  9.700e-02 ...  1.946e-04  9.482e-05]\n",
      "  optimality: 68.99961145992627\n",
      " active_mask: [ 0.000e+00  0.000e+00 ...  0.000e+00  0.000e+00]\n",
      "        nfev: 255\n",
      "        njev: 208\n"
     ]
    }
   ],
   "source": [
    "import scipy\n",
    "\n",
    "opt = scipy.optimize.least_squares(residual, x0, loss=\"soft_l1\", xtol=None)\n",
    "print(opt)"
   ]
  },
  {
   "cell_type": "code",
   "execution_count": 51,
   "id": "f6985565",
   "metadata": {
    "scrolled": true,
    "ExecuteTime": {
     "end_time": "2023-09-23T04:36:07.829438700Z",
     "start_time": "2023-09-23T04:36:07.809712500Z"
    }
   },
   "outputs": [],
   "source": [
    "np.save(\"./results/linear-fit\", opt.x)"
   ]
  },
  {
   "cell_type": "code",
   "execution_count": 52,
   "id": "d113d9a5",
   "metadata": {
    "scrolled": false,
    "ExecuteTime": {
     "end_time": "2023-09-23T04:36:08.354727500Z",
     "start_time": "2023-09-23T04:36:07.825261Z"
    }
   },
   "outputs": [
    {
     "data": {
      "text/plain": "count    5.173000e+03\nmean     5.717382e-01\nstd      5.094797e+00\nmin      3.128662e-10\n25%      1.301459e-01\n50%      2.664895e-01\n75%      4.160563e-01\nmax      1.937684e+02\ndtype: float64"
     },
     "execution_count": 52,
     "metadata": {},
     "output_type": "execute_result"
    },
    {
     "name": "stderr",
     "output_type": "stream",
     "text": [
      "C:\\Users\\RaenonX\\Documents\\Projects\\PokemonSleep\\pokemon-sleep-scraper\\venv\\lib\\site-packages\\seaborn\\_oldcore.py:1498: FutureWarning: is_categorical_dtype is deprecated and will be removed in a future version. Use isinstance(dtype, CategoricalDtype) instead\n",
      "  if pd.api.types.is_categorical_dtype(vector):\n",
      "C:\\Users\\RaenonX\\Documents\\Projects\\PokemonSleep\\pokemon-sleep-scraper\\venv\\lib\\site-packages\\seaborn\\_oldcore.py:1119: FutureWarning: use_inf_as_na option is deprecated and will be removed in a future version. Convert inf values to NaN before operating instead.\n",
      "  with pd.option_context('mode.use_inf_as_na', True):\n"
     ]
    },
    {
     "data": {
      "text/plain": "<Axes: ylabel='Count'>"
     },
     "execution_count": 52,
     "metadata": {},
     "output_type": "execute_result"
    },
    {
     "data": {
      "text/plain": "<Figure size 640x480 with 1 Axes>",
      "image/png": "[encoded data removed]"
     },
     "metadata": {},
     "output_type": "display_data"
    }
   ],
   "source": [
    "r_opt = np.abs(residual(opt.x))\n",
    "pd.Series(r_opt).describe()\n",
    "sns.histplot(x=r_opt[r_opt > 1e-3], log_scale=True)"
   ]
  },
  {
   "cell_type": "code",
   "execution_count": 53,
   "id": "621a31b0",
   "metadata": {
    "scrolled": false,
    "ExecuteTime": {
     "end_time": "2023-09-23T04:36:08.444813100Z",
     "start_time": "2023-09-23T04:36:08.356231700Z"
    }
   },
   "outputs": [
    {
     "name": "stdout",
     "output_type": "stream",
     "text": [
      "{'Nature Ingredient Finding': 0.19997015353262865,\n",
      " 'Nature Main Skill Chance': 0.1998531722501436,\n",
      " 'Nature Energy Recovery': 0.08008353385270557,\n",
      " 'Charge Strength S': array([0.74783691, 0.32191783]),\n",
      " 'Charge Strength M': array([0.74491663, 0.32274732]),\n",
      " 'Ingredient Magnet S': array([0.74546215, 0.32268629]),\n",
      " 'Cooking Power-Up S': array([0.74533295, 0.32258811]),\n",
      " 'Extra Helpful S': array([0.7452349 , 0.32267238]),\n",
      " 'Charge Energy S': array([0.74755515, 0.3219095 ]),\n",
      " 'Energizing Cheer S': array([0.73290614, 0.33239573]),\n",
      " 'Energy for Everyone S': array([0.74573292, 0.32266353]),\n",
      " 'Dream Shard Magnet S': array([0.7467496 , 0.32209574]),\n",
      " 'Metronome': array([0.74486602, 0.32309079]),\n",
      " 'Ing Growth Poly': array([ 0.00018915,  0.00307468, -0.00194419]),\n",
      " 'Dream Shard Bonus': 0.2193142402257843,\n",
      " 'Energy Recovery Bonus': 0.2191226850036324,\n",
      " 'Helping bonus': 0.21896523337450344,\n",
      " 'Inventory Up S': 0.06922661169315115,\n",
      " 'Inventory Up M': 0.13054707900820658,\n",
      " 'Inventory Up L': 0.17947800047067666,\n",
      " 'Research EXP Bonus': 0.21960711280957823,\n",
      " 'Sleep EXP Bonus': 0.21939387853645007}\n"
     ]
    }
   ],
   "source": [
    "sol = unpack(opt.x, unpack_info)\n",
    "\n",
    "# Print the part of solution dictionary that have small size\n",
    "sol2 = sol.copy()\n",
    "del sol2[\"Pokemons ing fractions\"]\n",
    "del sol2[\"Pokemons skill products\"]\n",
    "\n",
    "pprint(sol2)"
   ]
  },
  {
   "cell_type": "code",
   "execution_count": 57,
   "id": "3d039a553a435f6b",
   "metadata": {
    "scrolled": false,
    "ExecuteTime": {
     "end_time": "2023-09-23T04:38:37.066666600Z",
     "start_time": "2023-09-23T04:38:37.030587400Z"
    }
   },
   "outputs": [
    {
     "data": {
      "text/plain": "                 ing%  skill% * skillValue\nPokemon                                   \nBulbasaur   25.631496            16.738749\nIvysaur     25.472374            16.705482\nVenusaur    26.598309            18.432887\nCharmander  20.051566             9.680406\nCharmeleon  22.676435            14.058477\nCharizard   22.435554            14.006957\nSquirtle    27.011999            17.630695\nWartortle   27.072603            17.581066\nBlastoise   27.468070            18.442810\nCaterpie    17.893748             7.020763\nMetapod     20.716072            15.828890\nButterfree  19.711447            12.304260\nRattata     23.603384            11.981772\nRaticate    23.513675            11.985942\nEkans       23.329169            13.203001\nArbok       26.339305            22.790964\nPikachu     20.671634             8.370095\nRaichu      22.389782            12.770625\nJigglypuff  18.233770            48.113837\nWigglytuff  17.400370            44.739025\nDiglett     19.177832             8.370840\nDugtrio     18.965100             8.012662\nMeowth      16.312197            36.927185\nPersian     16.941237            38.678800\nPsyduck     13.571119            50.393490\nGolduck     13.467278            49.965206\nMankey      19.689240             8.770606\nPrimeape    20.922662             9.142626\nGrowlithe   13.766684            43.997959\nArcanine    13.718153            43.048288\nBellsprout  23.197481            15.680121\nWeepinbell  23.466942            15.997197\nVictreebel  23.267440            15.594323\nGeodude     28.106213            20.692298\nGraveler    27.130851            19.272031\nGolem       28.000848            20.751683\nSlowpoke    15.046109            58.948753\nSlowbro     15.029882            59.885132\nMagnemite   18.175980            56.297635\nMagneton    18.134872            55.425102\nDoduo       18.302360             8.008718\nDodrio      18.310233             7.977986\nGastly      14.373067             5.985903\nHaunter     15.658966             8.826450\nGengar      16.097647             9.563951\nCubone      22.206082            17.570533\nMarowak     22.437607            17.997028\nKangaskhan  22.184562            14.914353\nPinsir      19.483082            14.413232\nDitto       20.066434            14.397648\nEevee       19.216215            48.362926\nVaporeon    21.387325            53.590307\nJolteon     15.426092            34.209064\nFlareon     18.756086            45.695264\nChikorita   16.872768            15.558786\nBayleef     16.724493            15.172450\nMeganium    17.319019            18.398387\nCyndaquil   18.624266             8.343240\nQuilava     21.085353            16.367928\nTyphlosion  18.859954            15.690672\nTotodile    25.205769            20.770678\nCroconaw    25.315767            20.759087\nFeraligatr  25.854627            21.985948\nPichu       21.004630             9.150491\nIgglybuff   16.956359            42.557944\nTogepi      15.094815            43.054466\nTogetic     16.341493            49.216982\nMareep      12.745624            41.386794\nFlaaffy     12.720214            40.442203\nAmpharos    12.990052            41.342775\nSudowoodo   19.661987            57.193654\nEspeon      16.463138            38.697497\nUmbreon     22.493992            56.135063\nSlowking    16.460885            58.358965\nWobbuffet   21.126900            50.998040\nHeracross   15.769633            39.585869\nHoundour    20.047221            17.572280\nHoundoom    20.125591            18.408559\nLarvitar    23.736115            16.404917\nPupitar     24.688955            18.042459\nTyranitar   26.210447            21.740191\nSlakoth     21.293811            16.767181\nVigoroth    20.364776            13.199701\nSlaking      8.416854            60.053431\nSableye     11.628582            55.794383\nGulpin      21.240150            55.497836\nSwalot      20.839906            53.707608\nSwablu      17.574323            12.842116\nAltaria     25.746932            24.424084\nAbsol       17.811609            15.097975\nWynaut      21.485332            51.758651\nSpheal      22.366111            20.215770\nSealeo      21.466607            18.270851\nBonsly      19.087262            53.478251\nRiolu       12.581586            33.418105\nLucario     14.982781            44.863154\nCroagunk    22.710689            16.833468\nToxicroak   22.940819            17.056250\nMagnezone   17.927082            54.539767\nTogekiss    15.874510            46.523080\nLeafeon     20.264961            51.894486\nGlaceon     21.545460            55.596180\nSylveon     18.008016            44.715613\nMime Jr.    20.058362            12.814707\nMr. Mime    21.662366            15.274931",
      "text/html": "<div>\n<style scoped>\n    .dataframe tbody tr th:only-of-type {\n        vertical-align: middle;\n    }\n\n    .dataframe tbody tr th {\n        vertical-align: top;\n    }\n\n    .dataframe thead th {\n        text-align: right;\n    }\n</style>\n<table border=\"1\" class=\"dataframe\">\n  <thead>\n    <tr style=\"text-align: right;\">\n      <th></th>\n      <th>ing%</th>\n      <th>skill% * skillValue</th>\n    </tr>\n    <tr>\n      <th>Pokemon</th>\n      <th></th>\n      <th></th>\n    </tr>\n  </thead>\n  <tbody>\n    <tr>\n      <th>Bulbasaur</th>\n      <td>25.631496</td>\n      <td>16.738749</td>\n    </tr>\n    <tr>\n      <th>Ivysaur</th>\n      <td>25.472374</td>\n      <td>16.705482</td>\n    </tr>\n    <tr>\n      <th>Venusaur</th>\n      <td>26.598309</td>\n      <td>18.432887</td>\n    </tr>\n    <tr>\n      <th>Charmander</th>\n      <td>20.051566</td>\n      <td>9.680406</td>\n    </tr>\n    <tr>\n      <th>Charmeleon</th>\n      <td>22.676435</td>\n      <td>14.058477</td>\n    </tr>\n    <tr>\n      <th>Charizard</th>\n      <td>22.435554</td>\n      <td>14.006957</td>\n    </tr>\n    <tr>\n      <th>Squirtle</th>\n      <td>27.011999</td>\n      <td>17.630695</td>\n    </tr>\n    <tr>\n      <th>Wartortle</th>\n      <td>27.072603</td>\n      <td>17.581066</td>\n    </tr>\n    <tr>\n      <th>Blastoise</th>\n      <td>27.468070</td>\n      <td>18.442810</td>\n    </tr>\n    <tr>\n      <th>Caterpie</th>\n      <td>17.893748</td>\n      <td>7.020763</td>\n    </tr>\n    <tr>\n      <th>Metapod</th>\n      <td>20.716072</td>\n      <td>15.828890</td>\n    </tr>\n    <tr>\n      <th>Butterfree</th>\n      <td>19.711447</td>\n      <td>12.304260</td>\n    </tr>\n    <tr>\n      <th>Rattata</th>\n      <td>23.603384</td>\n      <td>11.981772</td>\n    </tr>\n    <tr>\n      <th>Raticate</th>\n      <td>23.513675</td>\n      <td>11.985942</td>\n    </tr>\n    <tr>\n      <th>Ekans</th>\n      <td>23.329169</td>\n      <td>13.203001</td>\n    </tr>\n    <tr>\n      <th>Arbok</th>\n      <td>26.339305</td>\n      <td>22.790964</td>\n    </tr>\n    <tr>\n      <th>Pikachu</th>\n      <td>20.671634</td>\n      <td>8.370095</td>\n    </tr>\n    <tr>\n      <th>Raichu</th>\n      <td>22.389782</td>\n      <td>12.770625</td>\n    </tr>\n    <tr>\n      <th>Jigglypuff</th>\n      <td>18.233770</td>\n      <td>48.113837</td>\n    </tr>\n    <tr>\n      <th>Wigglytuff</th>\n      <td>17.400370</td>\n      <td>44.739025</td>\n    </tr>\n    <tr>\n      <th>Diglett</th>\n      <td>19.177832</td>\n      <td>8.370840</td>\n    </tr>\n    <tr>\n      <th>Dugtrio</th>\n      <td>18.965100</td>\n      <td>8.012662</td>\n    </tr>\n    <tr>\n      <th>Meowth</th>\n      <td>16.312197</td>\n      <td>36.927185</td>\n    </tr>\n    <tr>\n      <th>Persian</th>\n      <td>16.941237</td>\n      <td>38.678800</td>\n    </tr>\n    <tr>\n      <th>Psyduck</th>\n      <td>13.571119</td>\n      <td>50.393490</td>\n    </tr>\n    <tr>\n      <th>Golduck</th>\n      <td>13.467278</td>\n      <td>49.965206</td>\n    </tr>\n    <tr>\n      <th>Mankey</th>\n      <td>19.689240</td>\n      <td>8.770606</td>\n    </tr>\n    <tr>\n      <th>Primeape</th>\n      <td>20.922662</td>\n      <td>9.142626</td>\n    </tr>\n    <tr>\n      <th>Growlithe</th>\n      <td>13.766684</td>\n      <td>43.997959</td>\n    </tr>\n    <tr>\n      <th>Arcanine</th>\n      <td>13.718153</td>\n      <td>43.048288</td>\n    </tr>\n    <tr>\n      <th>Bellsprout</th>\n      <td>23.197481</td>\n      <td>15.680121</td>\n    </tr>\n    <tr>\n      <th>Weepinbell</th>\n      <td>23.466942</td>\n      <td>15.997197</td>\n    </tr>\n    <tr>\n      <th>Victreebel</th>\n      <td>23.267440</td>\n      <td>15.594323</td>\n    </tr>\n    <tr>\n      <th>Geodude</th>\n      <td>28.106213</td>\n      <td>20.692298</td>\n    </tr>\n    <tr>\n      <th>Graveler</th>\n      <td>27.130851</td>\n      <td>19.272031</td>\n    </tr>\n    <tr>\n      <th>Golem</th>\n      <td>28.000848</td>\n      <td>20.751683</td>\n    </tr>\n    <tr>\n      <th>Slowpoke</th>\n      <td>15.046109</td>\n      <td>58.948753</td>\n    </tr>\n    <tr>\n      <th>Slowbro</th>\n      <td>15.029882</td>\n      <td>59.885132</td>\n    </tr>\n    <tr>\n      <th>Magnemite</th>\n      <td>18.175980</td>\n      <td>56.297635</td>\n    </tr>\n    <tr>\n      <th>Magneton</th>\n      <td>18.134872</td>\n      <td>55.425102</td>\n    </tr>\n    <tr>\n      <th>Doduo</th>\n      <td>18.302360</td>\n      <td>8.008718</td>\n    </tr>\n    <tr>\n      <th>Dodrio</th>\n      <td>18.310233</td>\n      <td>7.977986</td>\n    </tr>\n    <tr>\n      <th>Gastly</th>\n      <td>14.373067</td>\n      <td>5.985903</td>\n    </tr>\n    <tr>\n      <th>Haunter</th>\n      <td>15.658966</td>\n      <td>8.826450</td>\n    </tr>\n    <tr>\n      <th>Gengar</th>\n      <td>16.097647</td>\n      <td>9.563951</td>\n    </tr>\n    <tr>\n      <th>Cubone</th>\n      <td>22.206082</td>\n      <td>17.570533</td>\n    </tr>\n    <tr>\n      <th>Marowak</th>\n      <td>22.437607</td>\n      <td>17.997028</td>\n    </tr>\n    <tr>\n      <th>Kangaskhan</th>\n      <td>22.184562</td>\n      <td>14.914353</td>\n    </tr>\n    <tr>\n      <th>Pinsir</th>\n      <td>19.483082</td>\n      <td>14.413232</td>\n    </tr>\n    <tr>\n      <th>Ditto</th>\n      <td>20.066434</td>\n      <td>14.397648</td>\n    </tr>\n    <tr>\n      <th>Eevee</th>\n      <td>19.216215</td>\n      <td>48.362926</td>\n    </tr>\n    <tr>\n      <th>Vaporeon</th>\n      <td>21.387325</td>\n      <td>53.590307</td>\n    </tr>\n    <tr>\n      <th>Jolteon</th>\n      <td>15.426092</td>\n      <td>34.209064</td>\n    </tr>\n    <tr>\n      <th>Flareon</th>\n      <td>18.756086</td>\n      <td>45.695264</td>\n    </tr>\n    <tr>\n      <th>Chikorita</th>\n      <td>16.872768</td>\n      <td>15.558786</td>\n    </tr>\n    <tr>\n      <th>Bayleef</th>\n      <td>16.724493</td>\n      <td>15.172450</td>\n    </tr>\n    <tr>\n      <th>Meganium</th>\n      <td>17.319019</td>\n      <td>18.398387</td>\n    </tr>\n    <tr>\n      <th>Cyndaquil</th>\n      <td>18.624266</td>\n      <td>8.343240</td>\n    </tr>\n    <tr>\n      <th>Quilava</th>\n      <td>21.085353</td>\n      <td>16.367928</td>\n    </tr>\n    <tr>\n      <th>Typhlosion</th>\n      <td>18.859954</td>\n      <td>15.690672</td>\n    </tr>\n    <tr>\n      <th>Totodile</th>\n      <td>25.205769</td>\n      <td>20.770678</td>\n    </tr>\n    <tr>\n      <th>Croconaw</th>\n      <td>25.315767</td>\n      <td>20.759087</td>\n    </tr>\n    <tr>\n      <th>Feraligatr</th>\n      <td>25.854627</td>\n      <td>21.985948</td>\n    </tr>\n    <tr>\n      <th>Pichu</th>\n      <td>21.004630</td>\n      <td>9.150491</td>\n    </tr>\n    <tr>\n      <th>Igglybuff</th>\n      <td>16.956359</td>\n      <td>42.557944</td>\n    </tr>\n    <tr>\n      <th>Togepi</th>\n      <td>15.094815</td>\n      <td>43.054466</td>\n    </tr>\n    <tr>\n      <th>Togetic</th>\n      <td>16.341493</td>\n      <td>49.216982</td>\n    </tr>\n    <tr>\n      <th>Mareep</th>\n      <td>12.745624</td>\n      <td>41.386794</td>\n    </tr>\n    <tr>\n      <th>Flaaffy</th>\n      <td>12.720214</td>\n      <td>40.442203</td>\n    </tr>\n    <tr>\n      <th>Ampharos</th>\n      <td>12.990052</td>\n      <td>41.342775</td>\n    </tr>\n    <tr>\n      <th>Sudowoodo</th>\n      <td>19.661987</td>\n      <td>57.193654</td>\n    </tr>\n    <tr>\n      <th>Espeon</th>\n      <td>16.463138</td>\n      <td>38.697497</td>\n    </tr>\n    <tr>\n      <th>Umbreon</th>\n      <td>22.493992</td>\n      <td>56.135063</td>\n    </tr>\n    <tr>\n      <th>Slowking</th>\n      <td>16.460885</td>\n      <td>58.358965</td>\n    </tr>\n    <tr>\n      <th>Wobbuffet</th>\n      <td>21.126900</td>\n      <td>50.998040</td>\n    </tr>\n    <tr>\n      <th>Heracross</th>\n      <td>15.769633</td>\n      <td>39.585869</td>\n    </tr>\n    <tr>\n      <th>Houndour</th>\n      <td>20.047221</td>\n      <td>17.572280</td>\n    </tr>\n    <tr>\n      <th>Houndoom</th>\n      <td>20.125591</td>\n      <td>18.408559</td>\n    </tr>\n    <tr>\n      <th>Larvitar</th>\n      <td>23.736115</td>\n      <td>16.404917</td>\n    </tr>\n    <tr>\n      <th>Pupitar</th>\n      <td>24.688955</td>\n      <td>18.042459</td>\n    </tr>\n    <tr>\n      <th>Tyranitar</th>\n      <td>26.210447</td>\n      <td>21.740191</td>\n    </tr>\n    <tr>\n      <th>Slakoth</th>\n      <td>21.293811</td>\n      <td>16.767181</td>\n    </tr>\n    <tr>\n      <th>Vigoroth</th>\n      <td>20.364776</td>\n      <td>13.199701</td>\n    </tr>\n    <tr>\n      <th>Slaking</th>\n      <td>8.416854</td>\n      <td>60.053431</td>\n    </tr>\n    <tr>\n      <th>Sableye</th>\n      <td>11.628582</td>\n      <td>55.794383</td>\n    </tr>\n    <tr>\n      <th>Gulpin</th>\n      <td>21.240150</td>\n      <td>55.497836</td>\n    </tr>\n    <tr>\n      <th>Swalot</th>\n      <td>20.839906</td>\n      <td>53.707608</td>\n    </tr>\n    <tr>\n      <th>Swablu</th>\n      <td>17.574323</td>\n      <td>12.842116</td>\n    </tr>\n    <tr>\n      <th>Altaria</th>\n      <td>25.746932</td>\n      <td>24.424084</td>\n    </tr>\n    <tr>\n      <th>Absol</th>\n      <td>17.811609</td>\n      <td>15.097975</td>\n    </tr>\n    <tr>\n      <th>Wynaut</th>\n      <td>21.485332</td>\n      <td>51.758651</td>\n    </tr>\n    <tr>\n      <th>Spheal</th>\n      <td>22.366111</td>\n      <td>20.215770</td>\n    </tr>\n    <tr>\n      <th>Sealeo</th>\n      <td>21.466607</td>\n      <td>18.270851</td>\n    </tr>\n    <tr>\n      <th>Bonsly</th>\n      <td>19.087262</td>\n      <td>53.478251</td>\n    </tr>\n    <tr>\n      <th>Riolu</th>\n      <td>12.581586</td>\n      <td>33.418105</td>\n    </tr>\n    <tr>\n      <th>Lucario</th>\n      <td>14.982781</td>\n      <td>44.863154</td>\n    </tr>\n    <tr>\n      <th>Croagunk</th>\n      <td>22.710689</td>\n      <td>16.833468</td>\n    </tr>\n    <tr>\n      <th>Toxicroak</th>\n      <td>22.940819</td>\n      <td>17.056250</td>\n    </tr>\n    <tr>\n      <th>Magnezone</th>\n      <td>17.927082</td>\n      <td>54.539767</td>\n    </tr>\n    <tr>\n      <th>Togekiss</th>\n      <td>15.874510</td>\n      <td>46.523080</td>\n    </tr>\n    <tr>\n      <th>Leafeon</th>\n      <td>20.264961</td>\n      <td>51.894486</td>\n    </tr>\n    <tr>\n      <th>Glaceon</th>\n      <td>21.545460</td>\n      <td>55.596180</td>\n    </tr>\n    <tr>\n      <th>Sylveon</th>\n      <td>18.008016</td>\n      <td>44.715613</td>\n    </tr>\n    <tr>\n      <th>Mime Jr.</th>\n      <td>20.058362</td>\n      <td>12.814707</td>\n    </tr>\n    <tr>\n      <th>Mr. Mime</th>\n      <td>21.662366</td>\n      <td>15.274931</td>\n    </tr>\n  </tbody>\n</table>\n</div>"
     },
     "execution_count": 57,
     "metadata": {},
     "output_type": "execute_result"
    }
   ],
   "source": [
    "# Format ing% and skillProduct pretty\n",
    "\n",
    "res = pd.DataFrame({\n",
    "    \"Pokemon\": pokedex[\"Pokemon\"], \"ing%\": sol[\"Pokemons ing fractions\"] * 100.0,\n",
    "    \"skill% * skillValue\": sol[\"Pokemons skill products\"]\n",
    "})\n",
    "res.set_index(\"Pokemon\")"
   ]
  },
  {
   "cell_type": "code",
   "execution_count": 60,
   "outputs": [],
   "source": [
    "res.to_json(\"./../../transformed/ingredient_split.json\", orient=\"records\")"
   ],
   "metadata": {
    "collapsed": false,
    "ExecuteTime": {
     "end_time": "2023-09-23T04:41:51.196609700Z",
     "start_time": "2023-09-23T04:41:51.170756500Z"
    }
   },
   "id": "2385b22d"
  },
  {
   "cell_type": "code",
   "execution_count": 55,
   "id": "c9cba0d2",
   "metadata": {
    "scrolled": true,
    "ExecuteTime": {
     "end_time": "2023-09-23T04:36:08.450330500Z",
     "start_time": "2023-09-23T04:36:08.404514600Z"
    }
   },
   "outputs": [
    {
     "data": {
      "text/plain": "       Charge Strength S  Charge Strength M  Ingredient Magnet S  \\\nLevel                                                              \n2               1.423709           1.420504             1.421371   \n3               1.964393           1.961597             1.962674   \n4               2.710413           2.708802             2.710124   \n5               3.739750           3.740628             3.742226   \n6               5.160000           5.165495             5.167385   \n\n       Cooking Power-Up S  Extra Helpful S  Charge Energy S  \\\nLevel                                                         \n2                1.420845         1.420898         1.423149   \n3                1.961756         1.961994         1.963604   \n4                2.708590         2.709147         2.709301   \n5                3.739741         3.740825         3.738185   \n6                5.163447         5.165379         5.157798   \n\n       Energizing Cheer S  Energy for Everyone S  Dream Shard Magnet S  \\\nLevel                                                                    \n2                1.424832               1.421822              1.422145   \n3                1.986649               1.963253              1.962584   \n4                2.769994               2.710861              2.708399   \n5                3.862216               3.743159              3.737636   \n6                5.385105               5.168557              5.158001   \n\n       Metronome  \nLevel             \n2       1.421383  \n3       1.963486  \n4       2.712341  \n5       3.746803  \n6       5.175799  ",
      "text/html": "<div>\n<style scoped>\n    .dataframe tbody tr th:only-of-type {\n        vertical-align: middle;\n    }\n\n    .dataframe tbody tr th {\n        vertical-align: top;\n    }\n\n    .dataframe thead th {\n        text-align: right;\n    }\n</style>\n<table border=\"1\" class=\"dataframe\">\n  <thead>\n    <tr style=\"text-align: right;\">\n      <th></th>\n      <th>Charge Strength S</th>\n      <th>Charge Strength M</th>\n      <th>Ingredient Magnet S</th>\n      <th>Cooking Power-Up S</th>\n      <th>Extra Helpful S</th>\n      <th>Charge Energy S</th>\n      <th>Energizing Cheer S</th>\n      <th>Energy for Everyone S</th>\n      <th>Dream Shard Magnet S</th>\n      <th>Metronome</th>\n    </tr>\n    <tr>\n      <th>Level</th>\n      <th></th>\n      <th></th>\n      <th></th>\n      <th></th>\n      <th></th>\n      <th></th>\n      <th></th>\n      <th></th>\n      <th></th>\n      <th></th>\n    </tr>\n  </thead>\n  <tbody>\n    <tr>\n      <th>2</th>\n      <td>1.423709</td>\n      <td>1.420504</td>\n      <td>1.421371</td>\n      <td>1.420845</td>\n      <td>1.420898</td>\n      <td>1.423149</td>\n      <td>1.424832</td>\n      <td>1.421822</td>\n      <td>1.422145</td>\n      <td>1.421383</td>\n    </tr>\n    <tr>\n      <th>3</th>\n      <td>1.964393</td>\n      <td>1.961597</td>\n      <td>1.962674</td>\n      <td>1.961756</td>\n      <td>1.961994</td>\n      <td>1.963604</td>\n      <td>1.986649</td>\n      <td>1.963253</td>\n      <td>1.962584</td>\n      <td>1.963486</td>\n    </tr>\n    <tr>\n      <th>4</th>\n      <td>2.710413</td>\n      <td>2.708802</td>\n      <td>2.710124</td>\n      <td>2.708590</td>\n      <td>2.709147</td>\n      <td>2.709301</td>\n      <td>2.769994</td>\n      <td>2.710861</td>\n      <td>2.708399</td>\n      <td>2.712341</td>\n    </tr>\n    <tr>\n      <th>5</th>\n      <td>3.739750</td>\n      <td>3.740628</td>\n      <td>3.742226</td>\n      <td>3.739741</td>\n      <td>3.740825</td>\n      <td>3.738185</td>\n      <td>3.862216</td>\n      <td>3.743159</td>\n      <td>3.737636</td>\n      <td>3.746803</td>\n    </tr>\n    <tr>\n      <th>6</th>\n      <td>5.160000</td>\n      <td>5.165495</td>\n      <td>5.167385</td>\n      <td>5.163447</td>\n      <td>5.165379</td>\n      <td>5.157798</td>\n      <td>5.385105</td>\n      <td>5.168557</td>\n      <td>5.158001</td>\n      <td>5.175799</td>\n    </tr>\n  </tbody>\n</table>\n</div>"
     },
     "execution_count": 55,
     "metadata": {},
     "output_type": "execute_result"
    }
   ],
   "source": [
    "growth_display = {}\n",
    "growth_display[\"Level\"] = list(range(2, 7))\n",
    "\n",
    "for record in mainskills.to_dict(orient='records'):\n",
    "\n",
    "    skillname = record[\"Skill\"]\n",
    "    params = sol[skillname]\n",
    "    values = []\n",
    "\n",
    "    for level in range(2, 7):\n",
    "        values.append(params[0] * np.exp(params[1] * level))\n",
    "\n",
    "    growth_display[skillname] = values\n",
    "\n",
    "df = pd.DataFrame(growth_display)\n",
    "df.set_index(\"Level\")\n"
   ]
  },
  {
   "cell_type": "code",
   "execution_count": 56,
   "id": "c5af39f0",
   "metadata": {
    "ExecuteTime": {
     "end_time": "2023-09-23T04:36:08.501257Z",
     "start_time": "2023-09-23T04:36:08.436300500Z"
    }
   },
   "outputs": [
    {
     "data": {
      "text/plain": "         Pokemon                                                 ID  \\\n983       Raichu                RaichuNaughty151Ingredient Finder S   \n2150     Sableye                                     SableyeBrave61   \n2152     Sableye                                   SableyeRelaxed41   \n2151     Sableye                                      SableyeRash61   \n2607     Togetic                                     TogeticQuiet51   \n2034       Golem        GolemMild262Skill Trigger SSkill Level Up S   \n555      Ivysaur                   IvysaurNeutral141Helping Speed M   \n1715   Charizard    CharizardMild276Helping Speed MSkill Level Up M   \n1029     Sableye                 SableyeBrave191Ingredient Finder S   \n1102    Togekiss                   TogekissGentle103Skill Trigger M   \n1031     Sableye                     SableyeNaive181Helping Speed S   \n1551   Charizard       CharizardRash273Helping bonusHelping Speed M   \n1533  Charmeleon    CharmeleonQuiet252Inventory Up MSleep EXP Bonus   \n993     Raticate      RaticateBrave281Inventory Up MSleep EXP Bonus   \n237   Butterfree  ButterfreeImpish265Skill Level Up MSleep EXP B...   \n2369   Sudowoodo                   SudowoodoHasty162Berry Finding S   \n145   Butterfree                ButterfreeCareful103Berry Finding S   \n664      Leafeon                    LeafeonRelaxed102Inventory Up M   \n1348  Wigglytuff                WigglytuffRelaxed153Sleep EXP Bonus   \n1550   Charizard   CharizardNeutral273Inventory Up MHelping Speed M   \n210   Butterfree                ButterfreeNeutral103Sleep EXP Bonus   \n200   Butterfree             ButterfreeRash103Energy Recovery Bonus   \n305   Charmeleon   CharmeleonLax252Berry Finding SDream Shard Bonus   \n222   Butterfree                ButterfreeImpish105Skill Level Up M   \n1316  Weepinbell  WeepinbellNeutral252Energy Recovery BonusInven...   \n1642  Typhlosion  TyphlosionCareful283Berry Finding SHelping Spe...   \n1343  Wigglytuff                  WigglytuffRelaxed173Helping bonus   \n1147  Victreebel                 VictreebelRelaxed161Inventory Up M   \n264   Charmeleon   CharmeleonRelaxed252Helping bonusHelping Speed M   \n1543   Charizard              CharizardBold241Energy Recovery Bonus   \n146   Butterfree               ButterfreeNeutral104Skill Level Up S   \n2381   Sudowoodo               SudowoodoImpish173Research EXP Bonus   \n267   Charmeleon   CharmeleonRelaxed282Helping bonusHelping Speed M   \n217   Butterfree          ButterfreeNeutral102Energy Recovery Bonus   \n935       Raichu                  RaichuLax102Energy Recovery Bonus   \n1999      Gengar       GengarGentle263Helping Speed MInventory Up L   \n328     Croconaw                       CroconawLax142Inventory Up M   \n268   Charmeleon   CharmeleonRelaxed292Helping bonusHelping Speed M   \n167   Butterfree                   ButterfreeJolly102Inventory Up S   \n1763  Victreebel                      VictreebelLax152Helping bonus   \n266   Charmeleon   CharmeleonRelaxed272Helping bonusHelping Speed M   \n2691  Weepinbell                                  WeepinbellTimid91   \n265   Charmeleon   CharmeleonRelaxed262Helping bonusHelping Speed M   \n1705     Leafeon                     LeafeonLonely152Inventory Up L   \n779      Pikachu                      PikachuCalm111Helping Speed S   \n261   Charmeleon                  CharmeleonRelaxed222Helping bonus   \n166   Butterfree                ButterfreeNeutral102Skill Trigger S   \n508    Heracross               HeracrossImpish151Research EXP Bonus   \n262   Charmeleon                  CharmeleonRelaxed232Helping bonus   \n263   Charmeleon                  CharmeleonRelaxed242Helping bonus   \n1465  Charmeleon                  CharmeleonBrave101Helping Speed S   \n1241   Wartortle           WartortleRelaxed132Energy Recovery Bonus   \n187   Butterfree                  ButterfreeSassy102Skill Trigger M   \n810      Pikachu                  PikachuImpish171Dream Shard Bonus   \n2478    Croconaw                    CroconawRelaxed221Helping bonus   \n778      Pikachu                         PikachuLax112Helping bonus   \n934       Raichu                      RaichuImpish142Inventory Up S   \n802      Pikachu                      PikachuRash101Helping Speed S   \n815      Pikachu                     PikachuNaive101Helping Speed S   \n288   Charmeleon   CharmeleonLonely253Helping Speed SInventory Up L   \n563      Ivysaur                 IvysaurLax132Energy Recovery Bonus   \n1095    Togekiss                TogekissGentle245Research EXP Bonus   \n1641  Typhlosion  TyphlosionCareful273Berry Finding SHelping Spe...   \n1466  Charmeleon                CharmeleonNaughty101Helping Speed S   \n882      Pikachu                         PikachuLax111Helping bonus   \n777      Pikachu                      PikachuBold151Sleep EXP Bonus   \n2265       Absol                       AbsolLonely242Inventory Up L   \n2120  Jigglypuff                    JigglypuffBold101Inventory Up M   \n838      Pikachu                     PikachuLonely141Inventory Up L   \n280   Charmeleon                 CharmeleonBold152Dream Shard Bonus   \n1969     Haunter                   HaunterNaughty101Helping Speed S   \n2428      Swablu                      SwabluImpish101Inventory Up M   \n774      Pikachu                      PikachuBold121Sleep EXP Bonus   \n1181   Wartortle               WartortleImpish132Research EXP Bonus   \n782      Pikachu                       PikachuBold211Inventory Up S   \n1269   Wartortle                   WartortleLonely132Inventory Up L   \n391        Ditto                           DittoLax151Helping bonus   \n1504  Charmeleon                  CharmeleonLonely151Inventory Up L   \n1724    Venusaur                   VenusaurRelaxed243Inventory Up L   \n1431  Charmander                     CharmanderLax101Inventory Up M   \n1972     Haunter                     HaunterRelaxed141Helping bonus   \n1235   Wartortle                      WartortleLax111Inventory Up S   \n245     Caterpie                       CaterpieLax161Inventory Up M   \n1714   Charizard                   CharizardLonely201Inventory Up S   \n2199     Flaaffy                FlaaffyBold112Energy Recovery Bonus   \n1193   Wartortle                    WartortleHasty101Inventory Up L   \n209   Butterfree                  ButterfreeImpish103Inventory Up L   \n906       Pinsir                     PinsirGentle151Helping Speed S   \n2462    Totodile                  TotodileRelaxed111Sleep EXP Bonus   \n1788      Dodrio                        DodrioMild231Inventory Up S   \n1104     Togetic                 TogeticRelaxed121Dream Shard Bonus   \n82     Blastoise   BlastoiseGentle294Skill Trigger MSleep EXP Bonus   \n726      Metapod                       MetapodLax101Sleep EXP Bonus   \n2148    Larvitar                      LarvitarLax101Sleep EXP Bonus   \n900      Pikachu                     PikachuImpish141Inventory Up S   \n84     Blastoise  BlastoiseLonely273Helping bonusEnergy Recovery...   \n2111    Houndoom  HoundoomGentle252Research EXP BonusBerry Findi...   \n1049    Squirtle                      SquirtleLax101Sleep EXP Bonus   \n26         Absol                       AbsolImpish141Inventory Up S   \n2463    Totodile                    TotodileRelaxed111Helping bonus   \n\n                 NatureP             NatureN            Sub Skill 1  \\\n983        Speed of Help   Main Skill Chance    Ingredient Finder S   \n2150       Speed of Help           EXP Gains                          \n2152     Energy Recovery           EXP Gains                          \n2151  Ingredient Finding   Main Skill Chance                          \n2607  Ingredient Finding           Exp Gains                          \n2034  Ingredient Finding     Energy Recovery        Skill Trigger S   \n555                    -                   -        Helping Speed M   \n1715  Ingredient Finding     Energy Recovery        Helping Speed M   \n1029       Speed of Help           EXP Gains    Ingredient Finder S   \n1102   Main Skill Chance     Energy Recovery        Skill Trigger M   \n1031           EXP Gains   Main Skill Chance        Helping Speed S   \n1551  Ingredient Finding   Main Skill Chance          Helping bonus   \n1533  Ingredient Finding           Exp Gains         Inventory Up M   \n993        Speed of Help           EXP Gains         Inventory Up M   \n237      Energy Recovery  Ingredient Finding       Skill Level Up M   \n2369           EXP Gains     Energy Recovery        Berry Finding S   \n145    Main Skill Chance  Ingredient Finding        Berry Finding S   \n664      Energy Recovery           EXP Gains         Inventory Up M   \n1348     Energy Recovery           EXP Gains        Sleep EXP Bonus   \n1550                   -                   -         Inventory Up M   \n210                    -                   -        Sleep EXP Bonus   \n200   Ingredient Finding   Main Skill Chance  Energy Recovery Bonus   \n305      Energy Recovery   Main Skill Chance        Berry Finding S   \n222      Energy Recovery  Ingredient Finding       Skill Level Up M   \n1316                   -                   -  Energy Recovery Bonus   \n1642   Main Skill Chance  Ingredient Finding        Berry Finding S   \n1343     Energy Recovery           EXP Gains          Helping bonus   \n1147     Energy Recovery           EXP Gains         Inventory Up M   \n264      Energy Recovery           EXP Gains          Helping bonus   \n1543     Energy Recovery       Speed of Help  Energy Recovery Bonus   \n146                    -                   -       Skill Level Up S   \n2381     Energy Recovery  Ingredient Finding     Research EXP Bonus   \n267      Energy Recovery           EXP Gains          Helping bonus   \n217                    -                   -  Energy Recovery Bonus   \n935      Energy Recovery   Main Skill Chance  Energy Recovery Bonus   \n1999   Main Skill Chance     Energy Recovery        Helping Speed M   \n328      Energy Recovery   Main Skill Chance         Inventory Up M   \n268      Energy Recovery           EXP Gains          Helping bonus   \n167            EXP Gains  Ingredient Finding         Inventory Up S   \n1763     Energy Recovery   Main Skill Chance          Helping bonus   \n266      Energy Recovery           EXP Gains          Helping bonus   \n2691           EXP Gains       Speed of Help                          \n265      Energy Recovery           EXP Gains          Helping bonus   \n1705       Speed of Help     Energy Recovery         Inventory Up L   \n779    Main Skill Chance       Speed of Help        Helping Speed S   \n261      Energy Recovery           EXP Gains          Helping bonus   \n166                    -                   -        Skill Trigger S   \n508      Energy Recovery  Ingredient Finding     Research EXP Bonus   \n262      Energy Recovery           EXP Gains          Helping bonus   \n263      Energy Recovery           EXP Gains          Helping bonus   \n1465       Speed of Help           EXP Gains        Helping Speed S   \n1241     Energy Recovery           EXP Gains  Energy Recovery Bonus   \n187    Main Skill Chance           EXP Gains        Skill Trigger M   \n810      Energy Recovery  Ingredient Finding      Dream Shard Bonus   \n2478     Energy Recovery           EXP Gains          Helping bonus   \n778      Energy Recovery   Main Skill Chance          Helping bonus   \n934      Energy Recovery  Ingredient Finding         Inventory Up S   \n802   Ingredient Finding   Main Skill Chance        Helping Speed S   \n815            EXP Gains   Main Skill Chance        Helping Speed S   \n288        Speed of Help     Energy Recovery        Helping Speed S   \n563      Energy Recovery   Main Skill Chance  Energy Recovery Bonus   \n1095   Main Skill Chance     Energy Recovery     Research EXP Bonus   \n1641   Main Skill Chance  Ingredient Finding        Berry Finding S   \n1466       Speed of Help   Main Skill Chance        Helping Speed S   \n882      Energy Recovery   Main Skill Chance          Helping bonus   \n777      Energy Recovery       Speed of Help        Sleep EXP Bonus   \n2265       Speed of Help     Energy Recovery         Inventory Up L   \n2120     Energy Recovery       Speed of Help         Inventory Up M   \n838        Speed of Help     Energy Recovery         Inventory Up L   \n280      Energy Recovery       Speed of Help      Dream Shard Bonus   \n1969       Speed of Help   Main Skill Chance        Helping Speed S   \n2428     Energy Recovery  Ingredient Finding         Inventory Up M   \n774      Energy Recovery       Speed of Help        Sleep EXP Bonus   \n1181     Energy Recovery  Ingredient Finding     Research EXP Bonus   \n782      Energy Recovery       Speed of Help         Inventory Up S   \n1269       Speed of Help     Energy Recovery         Inventory Up L   \n391      Energy Recovery   Main Skill Chance          Helping bonus   \n1504       Speed of Help     Energy Recovery         Inventory Up L   \n1724     Energy Recovery           EXP Gains         Inventory Up L   \n1431     Energy Recovery   Main Skill Chance         Inventory Up M   \n1972     Energy Recovery           EXP Gains          Helping bonus   \n1235     Energy Recovery   Main Skill Chance         Inventory Up S   \n245      Energy Recovery   Main Skill Chance         Inventory Up M   \n1714       Speed of Help     Energy Recovery         Inventory Up S   \n2199     Energy Recovery       Speed of Help  Energy Recovery Bonus   \n1193           EXP Gains     Energy Recovery         Inventory Up L   \n209      Energy Recovery  Ingredient Finding         Inventory Up L   \n906    Main Skill Chance     Energy Recovery        Helping Speed S   \n2462     Energy Recovery           EXP Gains        Sleep EXP Bonus   \n1788  Ingredient Finding     Energy Recovery         Inventory Up S   \n1104     Energy Recovery           EXP Gains      Dream Shard Bonus   \n82     Main Skill Chance     Energy Recovery        Skill Trigger M   \n726      Energy Recovery   Main Skill Chance        Sleep EXP Bonus   \n2148     Energy Recovery   Main Skill Chance        Sleep EXP Bonus   \n900      Energy Recovery  Ingredient Finding         Inventory Up S   \n84         Speed of Help     Energy Recovery          Helping bonus   \n2111   Main Skill Chance     Energy Recovery     Research EXP Bonus   \n1049     Energy Recovery   Main Skill Chance        Sleep EXP Bonus   \n26       Energy Recovery  Ingredient Finding         Inventory Up S   \n2463     Energy Recovery           EXP Gains          Helping bonus   \n\n                Sub Skill 2      RP          fit        error2  \n983                           680.0   873.768398  37546.192122  \n2150                          390.0   571.237588  32847.063256  \n2152                          361.0   540.579262  32248.711276  \n2151                          348.0   469.135852  14673.894749  \n2607                          556.0   457.398248   9722.305504  \n2034       Skill Level Up S   801.0   859.011732   3365.360996  \n555                           723.0   677.488620   2071.285723  \n1715       Skill Level Up M  1514.0  1504.275117     94.573341  \n1029                          681.0   671.286299     94.355978  \n1102                         1282.0  1272.631132     87.775687  \n1031                          579.0   570.241761     76.706749  \n1551        Helping Speed M  1440.0  1431.346615     74.881063  \n1533        Sleep EXP Bonus  1063.0  1054.455463     73.009109  \n993         Sleep EXP Bonus  1097.0  1088.774448     67.659709  \n237         Sleep EXP Bonus  1404.0  1411.256423     52.655682  \n2369                          743.0   750.034701     49.487014  \n145                           910.0   903.356860     44.131304  \n664                           944.0   937.370932     43.944543  \n1348                         1164.0  1170.625695     43.899836  \n1550        Helping Speed M  1299.0  1292.416438     43.343294  \n210                           843.0   836.489331     42.388806  \n200                           815.0   808.510751     42.110351  \n305       Dream Shard Bonus  1243.0  1249.462541     41.764441  \n222                           901.0   894.604331     40.904584  \n1316         Inventory Up M   846.0   839.738148     39.210789  \n1642        Helping Speed M  1786.0  1792.239207     38.927706  \n1343                         1190.0  1196.051707     36.623159  \n1147                          862.0   855.961658     36.461571  \n264         Helping Speed M  1101.0  1106.745046     33.005559  \n1543                          998.0  1003.727664     32.806136  \n146                           756.0   750.365483     31.747782  \n2381                         1025.0  1030.564893     30.968029  \n267         Helping Speed M  1149.0  1154.538063     30.670143  \n217                           785.0   779.464897     30.637370  \n935                           961.0   966.514780     30.412798  \n1999         Inventory Up L  1251.0  1256.480970     30.041033  \n328                           780.0   774.673557     28.370997  \n268         Helping Speed M  1163.0  1168.284275     27.923563  \n167                           677.0   671.878973     26.224920  \n1763                          926.0   931.059986     25.603457  \n266         Helping Speed M  1136.0  1140.962862     24.629998  \n2691                          425.0   429.894416     23.955307  \n265         Helping Speed M  1115.0  1119.888204     23.894542  \n1705                          966.0   970.719442     22.273128  \n779                           567.0   562.294159     22.144937  \n261                           910.0   914.670084     21.809680  \n166                           666.0   661.401459     21.146581  \n508                           840.0   844.547016     20.675357  \n262                           921.0   925.486535     20.128998  \n263                           932.0   936.448404     19.788299  \n1465                          663.0   658.571817     19.608802  \n1241                          800.0   804.367492     19.074982  \n187                           721.0   716.711936     18.387494  \n810                           837.0   841.278023     18.301485  \n2478                          927.0   931.265286     18.192663  \n778                           754.0   758.194342     17.592507  \n934                           946.0   950.187788     17.537571  \n802                           593.0   588.843382     17.277475  \n815                           585.0   580.963041     16.297035  \n288          Inventory Up L   995.0   999.004419     16.035372  \n563                           766.0   769.943903     15.554369  \n1095                         2208.0  2211.870390     14.979920  \n1641        Helping Speed M  1761.0  1757.162311     14.727855  \n1466                          642.0   638.201991     14.424872  \n882                           729.0   732.788996     14.356493  \n777                           735.0   738.704211     13.721181  \n2265                          950.0   953.682742     13.562587  \n2120                          502.0   498.342429     13.377828  \n838                           728.0   731.587387     12.869346  \n280                           752.0   755.568109     12.731401  \n1969                          578.0   574.474704     12.427714  \n2428                          463.0   459.480119     12.389559  \n774                           687.0   690.495247     12.216749  \n1181                          737.0   740.484789     12.143755  \n782                           732.0   735.467428     12.023054  \n1269                          733.0   736.453755     11.928421  \n391                           673.0   676.449856     11.901504  \n1504                          714.0   717.421787     11.708629  \n1724                         1179.0  1182.347608     11.206481  \n1431                          510.0   506.729882     10.693671  \n1972                          690.0   693.228553     10.423557  \n1235                          620.0   623.221602     10.378717  \n245                           462.0   458.812576     10.159670  \n1714                          866.0   869.130674      9.801119  \n2199                          698.0   701.122309      9.748811  \n1193                          591.0   594.106640      9.651210  \n209                           863.0   859.907037      9.566419  \n906                           685.0   688.043673      9.263944  \n2462                          581.0   584.001226      9.007355  \n1788                          806.0   808.984433      8.906843  \n1104                          630.0   632.976259      8.858115  \n82          Sleep EXP Bonus  1474.0  1476.966378      8.799401  \n726                           495.0   497.946558      8.682205  \n2148                          483.0   485.879747      8.292940  \n900                           687.0   689.878704      8.286935  \n84    Energy Recovery Bonus  1432.0  1434.876484      8.274161  \n2111        Berry Finding S  1256.0  1258.875086      8.266122  \n1049                          524.0   526.855132      8.151777  \n26          Skill Trigger S   679.0   681.824876      7.979925  \n2463                          581.0   583.795936      7.817256  ",
      "text/html": "<div>\n<style scoped>\n    .dataframe tbody tr th:only-of-type {\n        vertical-align: middle;\n    }\n\n    .dataframe tbody tr th {\n        vertical-align: top;\n    }\n\n    .dataframe thead th {\n        text-align: right;\n    }\n</style>\n<table border=\"1\" class=\"dataframe\">\n  <thead>\n    <tr style=\"text-align: right;\">\n      <th></th>\n      <th>Pokemon</th>\n      <th>ID</th>\n      <th>NatureP</th>\n      <th>NatureN</th>\n      <th>Sub Skill 1</th>\n      <th>Sub Skill 2</th>\n      <th>RP</th>\n      <th>fit</th>\n      <th>error2</th>\n    </tr>\n  </thead>\n  <tbody>\n    <tr>\n      <th>983</th>\n      <td>Raichu</td>\n      <td>RaichuNaughty151Ingredient Finder S</td>\n      <td>Speed of Help</td>\n      <td>Main Skill Chance</td>\n      <td>Ingredient Finder S</td>\n      <td></td>\n      <td>680.0</td>\n      <td>873.768398</td>\n      <td>37546.192122</td>\n    </tr>\n    <tr>\n      <th>2150</th>\n      <td>Sableye</td>\n      <td>SableyeBrave61</td>\n      <td>Speed of Help</td>\n      <td>EXP Gains</td>\n      <td></td>\n      <td></td>\n      <td>390.0</td>\n      <td>571.237588</td>\n      <td>32847.063256</td>\n    </tr>\n    <tr>\n      <th>2152</th>\n      <td>Sableye</td>\n      <td>SableyeRelaxed41</td>\n      <td>Energy Recovery</td>\n      <td>EXP Gains</td>\n      <td></td>\n      <td></td>\n      <td>361.0</td>\n      <td>540.579262</td>\n      <td>32248.711276</td>\n    </tr>\n    <tr>\n      <th>2151</th>\n      <td>Sableye</td>\n      <td>SableyeRash61</td>\n      <td>Ingredient Finding</td>\n      <td>Main Skill Chance</td>\n      <td></td>\n      <td></td>\n      <td>348.0</td>\n      <td>469.135852</td>\n      <td>14673.894749</td>\n    </tr>\n    <tr>\n      <th>2607</th>\n      <td>Togetic</td>\n      <td>TogeticQuiet51</td>\n      <td>Ingredient Finding</td>\n      <td>Exp Gains</td>\n      <td></td>\n      <td></td>\n      <td>556.0</td>\n      <td>457.398248</td>\n      <td>9722.305504</td>\n    </tr>\n    <tr>\n      <th>2034</th>\n      <td>Golem</td>\n      <td>GolemMild262Skill Trigger SSkill Level Up S</td>\n      <td>Ingredient Finding</td>\n      <td>Energy Recovery</td>\n      <td>Skill Trigger S</td>\n      <td>Skill Level Up S</td>\n      <td>801.0</td>\n      <td>859.011732</td>\n      <td>3365.360996</td>\n    </tr>\n    <tr>\n      <th>555</th>\n      <td>Ivysaur</td>\n      <td>IvysaurNeutral141Helping Speed M</td>\n      <td>-</td>\n      <td>-</td>\n      <td>Helping Speed M</td>\n      <td></td>\n      <td>723.0</td>\n      <td>677.488620</td>\n      <td>2071.285723</td>\n    </tr>\n    <tr>\n      <th>1715</th>\n      <td>Charizard</td>\n      <td>CharizardMild276Helping Speed MSkill Level Up M</td>\n      <td>Ingredient Finding</td>\n      <td>Energy Recovery</td>\n      <td>Helping Speed M</td>\n      <td>Skill Level Up M</td>\n      <td>1514.0</td>\n      <td>1504.275117</td>\n      <td>94.573341</td>\n    </tr>\n    <tr>\n      <th>1029</th>\n      <td>Sableye</td>\n      <td>SableyeBrave191Ingredient Finder S</td>\n      <td>Speed of Help</td>\n      <td>EXP Gains</td>\n      <td>Ingredient Finder S</td>\n      <td></td>\n      <td>681.0</td>\n      <td>671.286299</td>\n      <td>94.355978</td>\n    </tr>\n    <tr>\n      <th>1102</th>\n      <td>Togekiss</td>\n      <td>TogekissGentle103Skill Trigger M</td>\n      <td>Main Skill Chance</td>\n      <td>Energy Recovery</td>\n      <td>Skill Trigger M</td>\n      <td></td>\n      <td>1282.0</td>\n      <td>1272.631132</td>\n      <td>87.775687</td>\n    </tr>\n    <tr>\n      <th>1031</th>\n      <td>Sableye</td>\n      <td>SableyeNaive181Helping Speed S</td>\n      <td>EXP Gains</td>\n      <td>Main Skill Chance</td>\n      <td>Helping Speed S</td>\n      <td></td>\n      <td>579.0</td>\n      <td>570.241761</td>\n      <td>76.706749</td>\n    </tr>\n    <tr>\n      <th>1551</th>\n      <td>Charizard</td>\n      <td>CharizardRash273Helping bonusHelping Speed M</td>\n      <td>Ingredient Finding</td>\n      <td>Main Skill Chance</td>\n      <td>Helping bonus</td>\n      <td>Helping Speed M</td>\n      <td>1440.0</td>\n      <td>1431.346615</td>\n      <td>74.881063</td>\n    </tr>\n    <tr>\n      <th>1533</th>\n      <td>Charmeleon</td>\n      <td>CharmeleonQuiet252Inventory Up MSleep EXP Bonus</td>\n      <td>Ingredient Finding</td>\n      <td>Exp Gains</td>\n      <td>Inventory Up M</td>\n      <td>Sleep EXP Bonus</td>\n      <td>1063.0</td>\n      <td>1054.455463</td>\n      <td>73.009109</td>\n    </tr>\n    <tr>\n      <th>993</th>\n      <td>Raticate</td>\n      <td>RaticateBrave281Inventory Up MSleep EXP Bonus</td>\n      <td>Speed of Help</td>\n      <td>EXP Gains</td>\n      <td>Inventory Up M</td>\n      <td>Sleep EXP Bonus</td>\n      <td>1097.0</td>\n      <td>1088.774448</td>\n      <td>67.659709</td>\n    </tr>\n    <tr>\n      <th>237</th>\n      <td>Butterfree</td>\n      <td>ButterfreeImpish265Skill Level Up MSleep EXP B...</td>\n      <td>Energy Recovery</td>\n      <td>Ingredient Finding</td>\n      <td>Skill Level Up M</td>\n      <td>Sleep EXP Bonus</td>\n      <td>1404.0</td>\n      <td>1411.256423</td>\n      <td>52.655682</td>\n    </tr>\n    <tr>\n      <th>2369</th>\n      <td>Sudowoodo</td>\n      <td>SudowoodoHasty162Berry Finding S</td>\n      <td>EXP Gains</td>\n      <td>Energy Recovery</td>\n      <td>Berry Finding S</td>\n      <td></td>\n      <td>743.0</td>\n      <td>750.034701</td>\n      <td>49.487014</td>\n    </tr>\n    <tr>\n      <th>145</th>\n      <td>Butterfree</td>\n      <td>ButterfreeCareful103Berry Finding S</td>\n      <td>Main Skill Chance</td>\n      <td>Ingredient Finding</td>\n      <td>Berry Finding S</td>\n      <td></td>\n      <td>910.0</td>\n      <td>903.356860</td>\n      <td>44.131304</td>\n    </tr>\n    <tr>\n      <th>664</th>\n      <td>Leafeon</td>\n      <td>LeafeonRelaxed102Inventory Up M</td>\n      <td>Energy Recovery</td>\n      <td>EXP Gains</td>\n      <td>Inventory Up M</td>\n      <td></td>\n      <td>944.0</td>\n      <td>937.370932</td>\n      <td>43.944543</td>\n    </tr>\n    <tr>\n      <th>1348</th>\n      <td>Wigglytuff</td>\n      <td>WigglytuffRelaxed153Sleep EXP Bonus</td>\n      <td>Energy Recovery</td>\n      <td>EXP Gains</td>\n      <td>Sleep EXP Bonus</td>\n      <td></td>\n      <td>1164.0</td>\n      <td>1170.625695</td>\n      <td>43.899836</td>\n    </tr>\n    <tr>\n      <th>1550</th>\n      <td>Charizard</td>\n      <td>CharizardNeutral273Inventory Up MHelping Speed M</td>\n      <td>-</td>\n      <td>-</td>\n      <td>Inventory Up M</td>\n      <td>Helping Speed M</td>\n      <td>1299.0</td>\n      <td>1292.416438</td>\n      <td>43.343294</td>\n    </tr>\n    <tr>\n      <th>210</th>\n      <td>Butterfree</td>\n      <td>ButterfreeNeutral103Sleep EXP Bonus</td>\n      <td>-</td>\n      <td>-</td>\n      <td>Sleep EXP Bonus</td>\n      <td></td>\n      <td>843.0</td>\n      <td>836.489331</td>\n      <td>42.388806</td>\n    </tr>\n    <tr>\n      <th>200</th>\n      <td>Butterfree</td>\n      <td>ButterfreeRash103Energy Recovery Bonus</td>\n      <td>Ingredient Finding</td>\n      <td>Main Skill Chance</td>\n      <td>Energy Recovery Bonus</td>\n      <td></td>\n      <td>815.0</td>\n      <td>808.510751</td>\n      <td>42.110351</td>\n    </tr>\n    <tr>\n      <th>305</th>\n      <td>Charmeleon</td>\n      <td>CharmeleonLax252Berry Finding SDream Shard Bonus</td>\n      <td>Energy Recovery</td>\n      <td>Main Skill Chance</td>\n      <td>Berry Finding S</td>\n      <td>Dream Shard Bonus</td>\n      <td>1243.0</td>\n      <td>1249.462541</td>\n      <td>41.764441</td>\n    </tr>\n    <tr>\n      <th>222</th>\n      <td>Butterfree</td>\n      <td>ButterfreeImpish105Skill Level Up M</td>\n      <td>Energy Recovery</td>\n      <td>Ingredient Finding</td>\n      <td>Skill Level Up M</td>\n      <td></td>\n      <td>901.0</td>\n      <td>894.604331</td>\n      <td>40.904584</td>\n    </tr>\n    <tr>\n      <th>1316</th>\n      <td>Weepinbell</td>\n      <td>WeepinbellNeutral252Energy Recovery BonusInven...</td>\n      <td>-</td>\n      <td>-</td>\n      <td>Energy Recovery Bonus</td>\n      <td>Inventory Up M</td>\n      <td>846.0</td>\n      <td>839.738148</td>\n      <td>39.210789</td>\n    </tr>\n    <tr>\n      <th>1642</th>\n      <td>Typhlosion</td>\n      <td>TyphlosionCareful283Berry Finding SHelping Spe...</td>\n      <td>Main Skill Chance</td>\n      <td>Ingredient Finding</td>\n      <td>Berry Finding S</td>\n      <td>Helping Speed M</td>\n      <td>1786.0</td>\n      <td>1792.239207</td>\n      <td>38.927706</td>\n    </tr>\n    <tr>\n      <th>1343</th>\n      <td>Wigglytuff</td>\n      <td>WigglytuffRelaxed173Helping bonus</td>\n      <td>Energy Recovery</td>\n      <td>EXP Gains</td>\n      <td>Helping bonus</td>\n      <td></td>\n      <td>1190.0</td>\n      <td>1196.051707</td>\n      <td>36.623159</td>\n    </tr>\n    <tr>\n      <th>1147</th>\n      <td>Victreebel</td>\n      <td>VictreebelRelaxed161Inventory Up M</td>\n      <td>Energy Recovery</td>\n      <td>EXP Gains</td>\n      <td>Inventory Up M</td>\n      <td></td>\n      <td>862.0</td>\n      <td>855.961658</td>\n      <td>36.461571</td>\n    </tr>\n    <tr>\n      <th>264</th>\n      <td>Charmeleon</td>\n      <td>CharmeleonRelaxed252Helping bonusHelping Speed M</td>\n      <td>Energy Recovery</td>\n      <td>EXP Gains</td>\n      <td>Helping bonus</td>\n      <td>Helping Speed M</td>\n      <td>1101.0</td>\n      <td>1106.745046</td>\n      <td>33.005559</td>\n    </tr>\n    <tr>\n      <th>1543</th>\n      <td>Charizard</td>\n      <td>CharizardBold241Energy Recovery Bonus</td>\n      <td>Energy Recovery</td>\n      <td>Speed of Help</td>\n      <td>Energy Recovery Bonus</td>\n      <td></td>\n      <td>998.0</td>\n      <td>1003.727664</td>\n      <td>32.806136</td>\n    </tr>\n    <tr>\n      <th>146</th>\n      <td>Butterfree</td>\n      <td>ButterfreeNeutral104Skill Level Up S</td>\n      <td>-</td>\n      <td>-</td>\n      <td>Skill Level Up S</td>\n      <td></td>\n      <td>756.0</td>\n      <td>750.365483</td>\n      <td>31.747782</td>\n    </tr>\n    <tr>\n      <th>2381</th>\n      <td>Sudowoodo</td>\n      <td>SudowoodoImpish173Research EXP Bonus</td>\n      <td>Energy Recovery</td>\n      <td>Ingredient Finding</td>\n      <td>Research EXP Bonus</td>\n      <td></td>\n      <td>1025.0</td>\n      <td>1030.564893</td>\n      <td>30.968029</td>\n    </tr>\n    <tr>\n      <th>267</th>\n      <td>Charmeleon</td>\n      <td>CharmeleonRelaxed282Helping bonusHelping Speed M</td>\n      <td>Energy Recovery</td>\n      <td>EXP Gains</td>\n      <td>Helping bonus</td>\n      <td>Helping Speed M</td>\n      <td>1149.0</td>\n      <td>1154.538063</td>\n      <td>30.670143</td>\n    </tr>\n    <tr>\n      <th>217</th>\n      <td>Butterfree</td>\n      <td>ButterfreeNeutral102Energy Recovery Bonus</td>\n      <td>-</td>\n      <td>-</td>\n      <td>Energy Recovery Bonus</td>\n      <td></td>\n      <td>785.0</td>\n      <td>779.464897</td>\n      <td>30.637370</td>\n    </tr>\n    <tr>\n      <th>935</th>\n      <td>Raichu</td>\n      <td>RaichuLax102Energy Recovery Bonus</td>\n      <td>Energy Recovery</td>\n      <td>Main Skill Chance</td>\n      <td>Energy Recovery Bonus</td>\n      <td></td>\n      <td>961.0</td>\n      <td>966.514780</td>\n      <td>30.412798</td>\n    </tr>\n    <tr>\n      <th>1999</th>\n      <td>Gengar</td>\n      <td>GengarGentle263Helping Speed MInventory Up L</td>\n      <td>Main Skill Chance</td>\n      <td>Energy Recovery</td>\n      <td>Helping Speed M</td>\n      <td>Inventory Up L</td>\n      <td>1251.0</td>\n      <td>1256.480970</td>\n      <td>30.041033</td>\n    </tr>\n    <tr>\n      <th>328</th>\n      <td>Croconaw</td>\n      <td>CroconawLax142Inventory Up M</td>\n      <td>Energy Recovery</td>\n      <td>Main Skill Chance</td>\n      <td>Inventory Up M</td>\n      <td></td>\n      <td>780.0</td>\n      <td>774.673557</td>\n      <td>28.370997</td>\n    </tr>\n    <tr>\n      <th>268</th>\n      <td>Charmeleon</td>\n      <td>CharmeleonRelaxed292Helping bonusHelping Speed M</td>\n      <td>Energy Recovery</td>\n      <td>EXP Gains</td>\n      <td>Helping bonus</td>\n      <td>Helping Speed M</td>\n      <td>1163.0</td>\n      <td>1168.284275</td>\n      <td>27.923563</td>\n    </tr>\n    <tr>\n      <th>167</th>\n      <td>Butterfree</td>\n      <td>ButterfreeJolly102Inventory Up S</td>\n      <td>EXP Gains</td>\n      <td>Ingredient Finding</td>\n      <td>Inventory Up S</td>\n      <td></td>\n      <td>677.0</td>\n      <td>671.878973</td>\n      <td>26.224920</td>\n    </tr>\n    <tr>\n      <th>1763</th>\n      <td>Victreebel</td>\n      <td>VictreebelLax152Helping bonus</td>\n      <td>Energy Recovery</td>\n      <td>Main Skill Chance</td>\n      <td>Helping bonus</td>\n      <td></td>\n      <td>926.0</td>\n      <td>931.059986</td>\n      <td>25.603457</td>\n    </tr>\n    <tr>\n      <th>266</th>\n      <td>Charmeleon</td>\n      <td>CharmeleonRelaxed272Helping bonusHelping Speed M</td>\n      <td>Energy Recovery</td>\n      <td>EXP Gains</td>\n      <td>Helping bonus</td>\n      <td>Helping Speed M</td>\n      <td>1136.0</td>\n      <td>1140.962862</td>\n      <td>24.629998</td>\n    </tr>\n    <tr>\n      <th>2691</th>\n      <td>Weepinbell</td>\n      <td>WeepinbellTimid91</td>\n      <td>EXP Gains</td>\n      <td>Speed of Help</td>\n      <td></td>\n      <td></td>\n      <td>425.0</td>\n      <td>429.894416</td>\n      <td>23.955307</td>\n    </tr>\n    <tr>\n      <th>265</th>\n      <td>Charmeleon</td>\n      <td>CharmeleonRelaxed262Helping bonusHelping Speed M</td>\n      <td>Energy Recovery</td>\n      <td>EXP Gains</td>\n      <td>Helping bonus</td>\n      <td>Helping Speed M</td>\n      <td>1115.0</td>\n      <td>1119.888204</td>\n      <td>23.894542</td>\n    </tr>\n    <tr>\n      <th>1705</th>\n      <td>Leafeon</td>\n      <td>LeafeonLonely152Inventory Up L</td>\n      <td>Speed of Help</td>\n      <td>Energy Recovery</td>\n      <td>Inventory Up L</td>\n      <td></td>\n      <td>966.0</td>\n      <td>970.719442</td>\n      <td>22.273128</td>\n    </tr>\n    <tr>\n      <th>779</th>\n      <td>Pikachu</td>\n      <td>PikachuCalm111Helping Speed S</td>\n      <td>Main Skill Chance</td>\n      <td>Speed of Help</td>\n      <td>Helping Speed S</td>\n      <td></td>\n      <td>567.0</td>\n      <td>562.294159</td>\n      <td>22.144937</td>\n    </tr>\n    <tr>\n      <th>261</th>\n      <td>Charmeleon</td>\n      <td>CharmeleonRelaxed222Helping bonus</td>\n      <td>Energy Recovery</td>\n      <td>EXP Gains</td>\n      <td>Helping bonus</td>\n      <td></td>\n      <td>910.0</td>\n      <td>914.670084</td>\n      <td>21.809680</td>\n    </tr>\n    <tr>\n      <th>166</th>\n      <td>Butterfree</td>\n      <td>ButterfreeNeutral102Skill Trigger S</td>\n      <td>-</td>\n      <td>-</td>\n      <td>Skill Trigger S</td>\n      <td></td>\n      <td>666.0</td>\n      <td>661.401459</td>\n      <td>21.146581</td>\n    </tr>\n    <tr>\n      <th>508</th>\n      <td>Heracross</td>\n      <td>HeracrossImpish151Research EXP Bonus</td>\n      <td>Energy Recovery</td>\n      <td>Ingredient Finding</td>\n      <td>Research EXP Bonus</td>\n      <td></td>\n      <td>840.0</td>\n      <td>844.547016</td>\n      <td>20.675357</td>\n    </tr>\n    <tr>\n      <th>262</th>\n      <td>Charmeleon</td>\n      <td>CharmeleonRelaxed232Helping bonus</td>\n      <td>Energy Recovery</td>\n      <td>EXP Gains</td>\n      <td>Helping bonus</td>\n      <td></td>\n      <td>921.0</td>\n      <td>925.486535</td>\n      <td>20.128998</td>\n    </tr>\n    <tr>\n      <th>263</th>\n      <td>Charmeleon</td>\n      <td>CharmeleonRelaxed242Helping bonus</td>\n      <td>Energy Recovery</td>\n      <td>EXP Gains</td>\n      <td>Helping bonus</td>\n      <td></td>\n      <td>932.0</td>\n      <td>936.448404</td>\n      <td>19.788299</td>\n    </tr>\n    <tr>\n      <th>1465</th>\n      <td>Charmeleon</td>\n      <td>CharmeleonBrave101Helping Speed S</td>\n      <td>Speed of Help</td>\n      <td>EXP Gains</td>\n      <td>Helping Speed S</td>\n      <td></td>\n      <td>663.0</td>\n      <td>658.571817</td>\n      <td>19.608802</td>\n    </tr>\n    <tr>\n      <th>1241</th>\n      <td>Wartortle</td>\n      <td>WartortleRelaxed132Energy Recovery Bonus</td>\n      <td>Energy Recovery</td>\n      <td>EXP Gains</td>\n      <td>Energy Recovery Bonus</td>\n      <td></td>\n      <td>800.0</td>\n      <td>804.367492</td>\n      <td>19.074982</td>\n    </tr>\n    <tr>\n      <th>187</th>\n      <td>Butterfree</td>\n      <td>ButterfreeSassy102Skill Trigger M</td>\n      <td>Main Skill Chance</td>\n      <td>EXP Gains</td>\n      <td>Skill Trigger M</td>\n      <td></td>\n      <td>721.0</td>\n      <td>716.711936</td>\n      <td>18.387494</td>\n    </tr>\n    <tr>\n      <th>810</th>\n      <td>Pikachu</td>\n      <td>PikachuImpish171Dream Shard Bonus</td>\n      <td>Energy Recovery</td>\n      <td>Ingredient Finding</td>\n      <td>Dream Shard Bonus</td>\n      <td></td>\n      <td>837.0</td>\n      <td>841.278023</td>\n      <td>18.301485</td>\n    </tr>\n    <tr>\n      <th>2478</th>\n      <td>Croconaw</td>\n      <td>CroconawRelaxed221Helping bonus</td>\n      <td>Energy Recovery</td>\n      <td>EXP Gains</td>\n      <td>Helping bonus</td>\n      <td></td>\n      <td>927.0</td>\n      <td>931.265286</td>\n      <td>18.192663</td>\n    </tr>\n    <tr>\n      <th>778</th>\n      <td>Pikachu</td>\n      <td>PikachuLax112Helping bonus</td>\n      <td>Energy Recovery</td>\n      <td>Main Skill Chance</td>\n      <td>Helping bonus</td>\n      <td></td>\n      <td>754.0</td>\n      <td>758.194342</td>\n      <td>17.592507</td>\n    </tr>\n    <tr>\n      <th>934</th>\n      <td>Raichu</td>\n      <td>RaichuImpish142Inventory Up S</td>\n      <td>Energy Recovery</td>\n      <td>Ingredient Finding</td>\n      <td>Inventory Up S</td>\n      <td></td>\n      <td>946.0</td>\n      <td>950.187788</td>\n      <td>17.537571</td>\n    </tr>\n    <tr>\n      <th>802</th>\n      <td>Pikachu</td>\n      <td>PikachuRash101Helping Speed S</td>\n      <td>Ingredient Finding</td>\n      <td>Main Skill Chance</td>\n      <td>Helping Speed S</td>\n      <td></td>\n      <td>593.0</td>\n      <td>588.843382</td>\n      <td>17.277475</td>\n    </tr>\n    <tr>\n      <th>815</th>\n      <td>Pikachu</td>\n      <td>PikachuNaive101Helping Speed S</td>\n      <td>EXP Gains</td>\n      <td>Main Skill Chance</td>\n      <td>Helping Speed S</td>\n      <td></td>\n      <td>585.0</td>\n      <td>580.963041</td>\n      <td>16.297035</td>\n    </tr>\n    <tr>\n      <th>288</th>\n      <td>Charmeleon</td>\n      <td>CharmeleonLonely253Helping Speed SInventory Up L</td>\n      <td>Speed of Help</td>\n      <td>Energy Recovery</td>\n      <td>Helping Speed S</td>\n      <td>Inventory Up L</td>\n      <td>995.0</td>\n      <td>999.004419</td>\n      <td>16.035372</td>\n    </tr>\n    <tr>\n      <th>563</th>\n      <td>Ivysaur</td>\n      <td>IvysaurLax132Energy Recovery Bonus</td>\n      <td>Energy Recovery</td>\n      <td>Main Skill Chance</td>\n      <td>Energy Recovery Bonus</td>\n      <td></td>\n      <td>766.0</td>\n      <td>769.943903</td>\n      <td>15.554369</td>\n    </tr>\n    <tr>\n      <th>1095</th>\n      <td>Togekiss</td>\n      <td>TogekissGentle245Research EXP Bonus</td>\n      <td>Main Skill Chance</td>\n      <td>Energy Recovery</td>\n      <td>Research EXP Bonus</td>\n      <td></td>\n      <td>2208.0</td>\n      <td>2211.870390</td>\n      <td>14.979920</td>\n    </tr>\n    <tr>\n      <th>1641</th>\n      <td>Typhlosion</td>\n      <td>TyphlosionCareful273Berry Finding SHelping Spe...</td>\n      <td>Main Skill Chance</td>\n      <td>Ingredient Finding</td>\n      <td>Berry Finding S</td>\n      <td>Helping Speed M</td>\n      <td>1761.0</td>\n      <td>1757.162311</td>\n      <td>14.727855</td>\n    </tr>\n    <tr>\n      <th>1466</th>\n      <td>Charmeleon</td>\n      <td>CharmeleonNaughty101Helping Speed S</td>\n      <td>Speed of Help</td>\n      <td>Main Skill Chance</td>\n      <td>Helping Speed S</td>\n      <td></td>\n      <td>642.0</td>\n      <td>638.201991</td>\n      <td>14.424872</td>\n    </tr>\n    <tr>\n      <th>882</th>\n      <td>Pikachu</td>\n      <td>PikachuLax111Helping bonus</td>\n      <td>Energy Recovery</td>\n      <td>Main Skill Chance</td>\n      <td>Helping bonus</td>\n      <td></td>\n      <td>729.0</td>\n      <td>732.788996</td>\n      <td>14.356493</td>\n    </tr>\n    <tr>\n      <th>777</th>\n      <td>Pikachu</td>\n      <td>PikachuBold151Sleep EXP Bonus</td>\n      <td>Energy Recovery</td>\n      <td>Speed of Help</td>\n      <td>Sleep EXP Bonus</td>\n      <td></td>\n      <td>735.0</td>\n      <td>738.704211</td>\n      <td>13.721181</td>\n    </tr>\n    <tr>\n      <th>2265</th>\n      <td>Absol</td>\n      <td>AbsolLonely242Inventory Up L</td>\n      <td>Speed of Help</td>\n      <td>Energy Recovery</td>\n      <td>Inventory Up L</td>\n      <td></td>\n      <td>950.0</td>\n      <td>953.682742</td>\n      <td>13.562587</td>\n    </tr>\n    <tr>\n      <th>2120</th>\n      <td>Jigglypuff</td>\n      <td>JigglypuffBold101Inventory Up M</td>\n      <td>Energy Recovery</td>\n      <td>Speed of Help</td>\n      <td>Inventory Up M</td>\n      <td></td>\n      <td>502.0</td>\n      <td>498.342429</td>\n      <td>13.377828</td>\n    </tr>\n    <tr>\n      <th>838</th>\n      <td>Pikachu</td>\n      <td>PikachuLonely141Inventory Up L</td>\n      <td>Speed of Help</td>\n      <td>Energy Recovery</td>\n      <td>Inventory Up L</td>\n      <td></td>\n      <td>728.0</td>\n      <td>731.587387</td>\n      <td>12.869346</td>\n    </tr>\n    <tr>\n      <th>280</th>\n      <td>Charmeleon</td>\n      <td>CharmeleonBold152Dream Shard Bonus</td>\n      <td>Energy Recovery</td>\n      <td>Speed of Help</td>\n      <td>Dream Shard Bonus</td>\n      <td></td>\n      <td>752.0</td>\n      <td>755.568109</td>\n      <td>12.731401</td>\n    </tr>\n    <tr>\n      <th>1969</th>\n      <td>Haunter</td>\n      <td>HaunterNaughty101Helping Speed S</td>\n      <td>Speed of Help</td>\n      <td>Main Skill Chance</td>\n      <td>Helping Speed S</td>\n      <td></td>\n      <td>578.0</td>\n      <td>574.474704</td>\n      <td>12.427714</td>\n    </tr>\n    <tr>\n      <th>2428</th>\n      <td>Swablu</td>\n      <td>SwabluImpish101Inventory Up M</td>\n      <td>Energy Recovery</td>\n      <td>Ingredient Finding</td>\n      <td>Inventory Up M</td>\n      <td></td>\n      <td>463.0</td>\n      <td>459.480119</td>\n      <td>12.389559</td>\n    </tr>\n    <tr>\n      <th>774</th>\n      <td>Pikachu</td>\n      <td>PikachuBold121Sleep EXP Bonus</td>\n      <td>Energy Recovery</td>\n      <td>Speed of Help</td>\n      <td>Sleep EXP Bonus</td>\n      <td></td>\n      <td>687.0</td>\n      <td>690.495247</td>\n      <td>12.216749</td>\n    </tr>\n    <tr>\n      <th>1181</th>\n      <td>Wartortle</td>\n      <td>WartortleImpish132Research EXP Bonus</td>\n      <td>Energy Recovery</td>\n      <td>Ingredient Finding</td>\n      <td>Research EXP Bonus</td>\n      <td></td>\n      <td>737.0</td>\n      <td>740.484789</td>\n      <td>12.143755</td>\n    </tr>\n    <tr>\n      <th>782</th>\n      <td>Pikachu</td>\n      <td>PikachuBold211Inventory Up S</td>\n      <td>Energy Recovery</td>\n      <td>Speed of Help</td>\n      <td>Inventory Up S</td>\n      <td></td>\n      <td>732.0</td>\n      <td>735.467428</td>\n      <td>12.023054</td>\n    </tr>\n    <tr>\n      <th>1269</th>\n      <td>Wartortle</td>\n      <td>WartortleLonely132Inventory Up L</td>\n      <td>Speed of Help</td>\n      <td>Energy Recovery</td>\n      <td>Inventory Up L</td>\n      <td></td>\n      <td>733.0</td>\n      <td>736.453755</td>\n      <td>11.928421</td>\n    </tr>\n    <tr>\n      <th>391</th>\n      <td>Ditto</td>\n      <td>DittoLax151Helping bonus</td>\n      <td>Energy Recovery</td>\n      <td>Main Skill Chance</td>\n      <td>Helping bonus</td>\n      <td></td>\n      <td>673.0</td>\n      <td>676.449856</td>\n      <td>11.901504</td>\n    </tr>\n    <tr>\n      <th>1504</th>\n      <td>Charmeleon</td>\n      <td>CharmeleonLonely151Inventory Up L</td>\n      <td>Speed of Help</td>\n      <td>Energy Recovery</td>\n      <td>Inventory Up L</td>\n      <td></td>\n      <td>714.0</td>\n      <td>717.421787</td>\n      <td>11.708629</td>\n    </tr>\n    <tr>\n      <th>1724</th>\n      <td>Venusaur</td>\n      <td>VenusaurRelaxed243Inventory Up L</td>\n      <td>Energy Recovery</td>\n      <td>EXP Gains</td>\n      <td>Inventory Up L</td>\n      <td></td>\n      <td>1179.0</td>\n      <td>1182.347608</td>\n      <td>11.206481</td>\n    </tr>\n    <tr>\n      <th>1431</th>\n      <td>Charmander</td>\n      <td>CharmanderLax101Inventory Up M</td>\n      <td>Energy Recovery</td>\n      <td>Main Skill Chance</td>\n      <td>Inventory Up M</td>\n      <td></td>\n      <td>510.0</td>\n      <td>506.729882</td>\n      <td>10.693671</td>\n    </tr>\n    <tr>\n      <th>1972</th>\n      <td>Haunter</td>\n      <td>HaunterRelaxed141Helping bonus</td>\n      <td>Energy Recovery</td>\n      <td>EXP Gains</td>\n      <td>Helping bonus</td>\n      <td></td>\n      <td>690.0</td>\n      <td>693.228553</td>\n      <td>10.423557</td>\n    </tr>\n    <tr>\n      <th>1235</th>\n      <td>Wartortle</td>\n      <td>WartortleLax111Inventory Up S</td>\n      <td>Energy Recovery</td>\n      <td>Main Skill Chance</td>\n      <td>Inventory Up S</td>\n      <td></td>\n      <td>620.0</td>\n      <td>623.221602</td>\n      <td>10.378717</td>\n    </tr>\n    <tr>\n      <th>245</th>\n      <td>Caterpie</td>\n      <td>CaterpieLax161Inventory Up M</td>\n      <td>Energy Recovery</td>\n      <td>Main Skill Chance</td>\n      <td>Inventory Up M</td>\n      <td></td>\n      <td>462.0</td>\n      <td>458.812576</td>\n      <td>10.159670</td>\n    </tr>\n    <tr>\n      <th>1714</th>\n      <td>Charizard</td>\n      <td>CharizardLonely201Inventory Up S</td>\n      <td>Speed of Help</td>\n      <td>Energy Recovery</td>\n      <td>Inventory Up S</td>\n      <td></td>\n      <td>866.0</td>\n      <td>869.130674</td>\n      <td>9.801119</td>\n    </tr>\n    <tr>\n      <th>2199</th>\n      <td>Flaaffy</td>\n      <td>FlaaffyBold112Energy Recovery Bonus</td>\n      <td>Energy Recovery</td>\n      <td>Speed of Help</td>\n      <td>Energy Recovery Bonus</td>\n      <td></td>\n      <td>698.0</td>\n      <td>701.122309</td>\n      <td>9.748811</td>\n    </tr>\n    <tr>\n      <th>1193</th>\n      <td>Wartortle</td>\n      <td>WartortleHasty101Inventory Up L</td>\n      <td>EXP Gains</td>\n      <td>Energy Recovery</td>\n      <td>Inventory Up L</td>\n      <td></td>\n      <td>591.0</td>\n      <td>594.106640</td>\n      <td>9.651210</td>\n    </tr>\n    <tr>\n      <th>209</th>\n      <td>Butterfree</td>\n      <td>ButterfreeImpish103Inventory Up L</td>\n      <td>Energy Recovery</td>\n      <td>Ingredient Finding</td>\n      <td>Inventory Up L</td>\n      <td></td>\n      <td>863.0</td>\n      <td>859.907037</td>\n      <td>9.566419</td>\n    </tr>\n    <tr>\n      <th>906</th>\n      <td>Pinsir</td>\n      <td>PinsirGentle151Helping Speed S</td>\n      <td>Main Skill Chance</td>\n      <td>Energy Recovery</td>\n      <td>Helping Speed S</td>\n      <td></td>\n      <td>685.0</td>\n      <td>688.043673</td>\n      <td>9.263944</td>\n    </tr>\n    <tr>\n      <th>2462</th>\n      <td>Totodile</td>\n      <td>TotodileRelaxed111Sleep EXP Bonus</td>\n      <td>Energy Recovery</td>\n      <td>EXP Gains</td>\n      <td>Sleep EXP Bonus</td>\n      <td></td>\n      <td>581.0</td>\n      <td>584.001226</td>\n      <td>9.007355</td>\n    </tr>\n    <tr>\n      <th>1788</th>\n      <td>Dodrio</td>\n      <td>DodrioMild231Inventory Up S</td>\n      <td>Ingredient Finding</td>\n      <td>Energy Recovery</td>\n      <td>Inventory Up S</td>\n      <td></td>\n      <td>806.0</td>\n      <td>808.984433</td>\n      <td>8.906843</td>\n    </tr>\n    <tr>\n      <th>1104</th>\n      <td>Togetic</td>\n      <td>TogeticRelaxed121Dream Shard Bonus</td>\n      <td>Energy Recovery</td>\n      <td>EXP Gains</td>\n      <td>Dream Shard Bonus</td>\n      <td></td>\n      <td>630.0</td>\n      <td>632.976259</td>\n      <td>8.858115</td>\n    </tr>\n    <tr>\n      <th>82</th>\n      <td>Blastoise</td>\n      <td>BlastoiseGentle294Skill Trigger MSleep EXP Bonus</td>\n      <td>Main Skill Chance</td>\n      <td>Energy Recovery</td>\n      <td>Skill Trigger M</td>\n      <td>Sleep EXP Bonus</td>\n      <td>1474.0</td>\n      <td>1476.966378</td>\n      <td>8.799401</td>\n    </tr>\n    <tr>\n      <th>726</th>\n      <td>Metapod</td>\n      <td>MetapodLax101Sleep EXP Bonus</td>\n      <td>Energy Recovery</td>\n      <td>Main Skill Chance</td>\n      <td>Sleep EXP Bonus</td>\n      <td></td>\n      <td>495.0</td>\n      <td>497.946558</td>\n      <td>8.682205</td>\n    </tr>\n    <tr>\n      <th>2148</th>\n      <td>Larvitar</td>\n      <td>LarvitarLax101Sleep EXP Bonus</td>\n      <td>Energy Recovery</td>\n      <td>Main Skill Chance</td>\n      <td>Sleep EXP Bonus</td>\n      <td></td>\n      <td>483.0</td>\n      <td>485.879747</td>\n      <td>8.292940</td>\n    </tr>\n    <tr>\n      <th>900</th>\n      <td>Pikachu</td>\n      <td>PikachuImpish141Inventory Up S</td>\n      <td>Energy Recovery</td>\n      <td>Ingredient Finding</td>\n      <td>Inventory Up S</td>\n      <td></td>\n      <td>687.0</td>\n      <td>689.878704</td>\n      <td>8.286935</td>\n    </tr>\n    <tr>\n      <th>84</th>\n      <td>Blastoise</td>\n      <td>BlastoiseLonely273Helping bonusEnergy Recovery...</td>\n      <td>Speed of Help</td>\n      <td>Energy Recovery</td>\n      <td>Helping bonus</td>\n      <td>Energy Recovery Bonus</td>\n      <td>1432.0</td>\n      <td>1434.876484</td>\n      <td>8.274161</td>\n    </tr>\n    <tr>\n      <th>2111</th>\n      <td>Houndoom</td>\n      <td>HoundoomGentle252Research EXP BonusBerry Findi...</td>\n      <td>Main Skill Chance</td>\n      <td>Energy Recovery</td>\n      <td>Research EXP Bonus</td>\n      <td>Berry Finding S</td>\n      <td>1256.0</td>\n      <td>1258.875086</td>\n      <td>8.266122</td>\n    </tr>\n    <tr>\n      <th>1049</th>\n      <td>Squirtle</td>\n      <td>SquirtleLax101Sleep EXP Bonus</td>\n      <td>Energy Recovery</td>\n      <td>Main Skill Chance</td>\n      <td>Sleep EXP Bonus</td>\n      <td></td>\n      <td>524.0</td>\n      <td>526.855132</td>\n      <td>8.151777</td>\n    </tr>\n    <tr>\n      <th>26</th>\n      <td>Absol</td>\n      <td>AbsolImpish141Inventory Up S</td>\n      <td>Energy Recovery</td>\n      <td>Ingredient Finding</td>\n      <td>Inventory Up S</td>\n      <td>Skill Trigger S</td>\n      <td>679.0</td>\n      <td>681.824876</td>\n      <td>7.979925</td>\n    </tr>\n    <tr>\n      <th>2463</th>\n      <td>Totodile</td>\n      <td>TotodileRelaxed111Helping bonus</td>\n      <td>Energy Recovery</td>\n      <td>EXP Gains</td>\n      <td>Helping bonus</td>\n      <td></td>\n      <td>581.0</td>\n      <td>583.795936</td>\n      <td>7.817256</td>\n    </tr>\n  </tbody>\n</table>\n</div>"
     },
     "execution_count": 56,
     "metadata": {},
     "output_type": "execute_result"
    }
   ],
   "source": [
    "df = data[[\"Pokemon\", \"ID\", \"NatureP\", \"NatureN\", \"Sub Skill 1\", \"Sub Skill 2\", \"RP\"]].copy()\n",
    "\n",
    "df[\"fit\"] = RP(opt.x)\n",
    "df[\"error2\"] = residual(opt.x) ** 2\n",
    "\n",
    "df = df.sort_values(\"error2\", ascending=False)\n",
    "df.head(100)"
   ]
  },
  {
   "cell_type": "code",
   "execution_count": 56,
   "id": "7810802e",
   "metadata": {
    "ExecuteTime": {
     "end_time": "2023-09-23T04:36:08.568318400Z",
     "start_time": "2023-09-23T04:36:08.479496700Z"
    }
   },
   "outputs": [],
   "source": []
  }
 ],
 "metadata": {
  "kernelspec": {
   "display_name": "Python 3 (ipykernel)",
   "language": "python",
   "name": "python3"
  },
  "language_info": {
   "codemirror_mode": {
    "name": "ipython",
    "version": 3
   },
   "file_extension": ".py",
   "mimetype": "text/x-python",
   "name": "python",
   "nbconvert_exporter": "python",
   "pygments_lexer": "ipython3",
   "version": "3.8.17"
  }
 },
 "nbformat": 4,
 "nbformat_minor": 5
}
